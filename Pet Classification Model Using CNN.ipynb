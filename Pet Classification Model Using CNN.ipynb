{
 "cells": [
  {
   "cell_type": "markdown",
   "metadata": {},
   "source": [
    "# end-course project 3 -Pet Classification Model Using CNN"
   ]
  },
  {
   "cell_type": "markdown",
   "metadata": {},
   "source": [
    "### Project Objective:\n",
    "\n",
    "\n",
    "Build a CNN model that classifies the given pet images correctly into dog and cat images. \n",
    "The project scope document specifies the requirements for the project “Pet Classification Model Using CNN.” Apart from specifying the functional and non-functional requirements for the project, it also serves as an input for project scoping. \n",
    "\n"
   ]
  },
  {
   "cell_type": "markdown",
   "metadata": {},
   "source": [
    "### Project Description and Scope: \n",
    "\n",
    "\n",
    "You are provided with a collection of images of pets, that is, cats and dogs. These images are of different sizes with varied lighting conditions and they should be used as inputs for your model.\n",
    "\n",
    "You are expected to write the code for CNN image classification model using TensorFlow that trains on the data and calculates the accuracy score on the test data. "
   ]
  },
  {
   "cell_type": "code",
   "execution_count": 2,
   "metadata": {},
   "outputs": [
    {
     "name": "stdout",
     "output_type": "stream",
     "text": [
      "imported\n"
     ]
    }
   ],
   "source": [
    "import tensorflow as tf\n",
    "from tensorflow.keras.preprocessing.image import ImageDataGenerator\n",
    "# to print images\n",
    "\n",
    "import matplotlib.pyplot as plt\n",
    "from matplotlib.image import imread\n",
    "print('imported')"
   ]
  },
  {
   "cell_type": "markdown",
   "metadata": {},
   "source": [
    "## loading dataset \n",
    "and preform data Augmentaion since the dataset is small"
   ]
  },
  {
   "cell_type": "code",
   "execution_count": 3,
   "metadata": {},
   "outputs": [],
   "source": [
    "training_data_Generator= ImageDataGenerator( rescale=1./255,\n",
    "        shear_range=0.2,\n",
    "        zoom_range=0.2,\n",
    "        horizontal_flip=True)\n",
    "#ImageDataGenerator?  Generate batches of tensor image data with real-time data augmentation.\n",
    "#  The data will be looped over (in batches)."
   ]
  },
  {
   "cell_type": "code",
   "execution_count": 4,
   "metadata": {},
   "outputs": [],
   "source": [
    "test_data_Generator= ImageDataGenerator(rescale=1./255)"
   ]
  },
  {
   "cell_type": "code",
   "execution_count": 5,
   "metadata": {},
   "outputs": [
    {
     "name": "stdout",
     "output_type": "stream",
     "text": [
      "Found 40 images belonging to 2 classes.\n"
     ]
    }
   ],
   "source": [
    "#import dataset \n",
    "\n",
    "training_set= test_data_Generator.flow_from_directory('data/train/',target_size=(64,64),batch_size=10,class_mode='binary')\n",
    "# flow_from_directory? Takes the path to a directory & generates batches of augmented data."
   ]
  },
  {
   "cell_type": "code",
   "execution_count": 6,
   "metadata": {},
   "outputs": [
    {
     "name": "stdout",
     "output_type": "stream",
     "text": [
      "Found 20 images belonging to 2 classes.\n"
     ]
    }
   ],
   "source": [
    "test_set = test_data_Generator.flow_from_directory(\n",
    "        'data/test',\n",
    "        target_size=(64, 64),\n",
    "        batch_size=10,\n",
    "        class_mode='binary')"
   ]
  },
  {
   "cell_type": "code",
   "execution_count": 7,
   "metadata": {},
   "outputs": [
    {
     "data": {
      "text/plain": [
       "{'cats': 0, 'dogs': 1}"
      ]
     },
     "execution_count": 7,
     "metadata": {},
     "output_type": "execute_result"
    }
   ],
   "source": [
    "training_set.class_indices"
   ]
  },
  {
   "cell_type": "code",
   "execution_count": 8,
   "metadata": {},
   "outputs": [
    {
     "data": {
      "text/plain": [
       "(64, 64, 3)"
      ]
     },
     "execution_count": 8,
     "metadata": {},
     "output_type": "execute_result"
    }
   ],
   "source": [
    "training_set.image_shape"
   ]
  },
  {
   "cell_type": "markdown",
   "metadata": {},
   "source": [
    "### Project Guidelines:\n",
    "\n",
    "\n",
    "Begin by creating the ipynb file in the same parent folder where the downloaded data set is kept. The CNN model should have the following layers: \n",
    "- Input layer \n",
    "- Convolutional layer 1 with 32 filters of kernel size[5,5] \n",
    "- Pooling layer 1 with pool size[2,2] and stride 2 \n",
    "- Convolutional layer 2 with 64 filters of kernel size[5,5] \n",
    "- Pooling layer 2 with pool size[2,2] and stride 2 \n",
    "- Dense layer whose output size is fixed in the hyper parameter: fc_size=32 \n",
    "- Dropout layer with dropout probability 0.4 \n",
    "Predict the class by doing a softmax on the output of the dropout layers. \n",
    "This should be followed by training and evaluation: \n",
    "- For the training step, define the loss function and minimize it \n",
    "- For the evaluation step, calculate the accuracy \n",
    "Run the program for 100, 200, and 300 iterations, respectively. Follow this by a report on the final accuracy and loss on the evaluation data. \n",
    "\n"
   ]
  },
  {
   "cell_type": "code",
   "execution_count": 9,
   "metadata": {},
   "outputs": [],
   "source": [
    "from tensorflow.keras.models import Sequential\n",
    "from tensorflow.keras.layers import Conv2D,MaxPooling2D,Dense,Dropout,Input,Flatten"
   ]
  },
  {
   "cell_type": "markdown",
   "metadata": {},
   "source": [
    "## model architecture "
   ]
  },
  {
   "cell_type": "code",
   "execution_count": 10,
   "metadata": {},
   "outputs": [],
   "source": [
    "# create model\n",
    "model = Sequential()\n",
    "\n",
    "# input layer,\n",
    "#Convolutional layer 1 with 32 filters of kernel size[5,5] \n",
    "model.add(Conv2D(filters=32,kernel_size=(5,5),activation='relu',input_shape=(64,64,3)))\n",
    "\n",
    "#Pooling layer 1 with pool size[2,2] and stride 2 \n",
    "model.add(MaxPooling2D(pool_size=(2,2),strides=2))\n",
    "\n",
    "#Convolutional layer 2 with 64 filters of kernel size[5,5] \n",
    "model.add(Conv2D(filters=64,kernel_size=(5,5),activation='relu'))\n",
    "\n",
    "#  Pooling layer 2 with pool size[2,2] and stride 2 \n",
    "model.add(MaxPooling2D(pool_size=(2,2),strides=2))\n",
    "\n",
    "# Dense layer whose output size is fixed in the hyper parameter: fc_size=32 \n",
    "\n",
    "model.add(Flatten())\n",
    "model.add(Dense(32,activation='relu'))\n",
    "\n",
    "# Dropout layer with dropout probability 0.4 \n",
    "model.add(Dropout(0.4))\n",
    "# becuse the dataset is small the model does not suffer from overfitting and the dropout layer decress the accurcy by 0.1\n",
    "\n",
    "# Predict the class by doing a softmax on the output of the dropout layers.\n",
    "model.add(Dense(1,activation='softmax')) "
   ]
  },
  {
   "cell_type": "code",
   "execution_count": 11,
   "metadata": {},
   "outputs": [
    {
     "name": "stdout",
     "output_type": "stream",
     "text": [
      "Model: \"sequential\"\n",
      "_________________________________________________________________\n",
      "Layer (type)                 Output Shape              Param #   \n",
      "=================================================================\n",
      "conv2d (Conv2D)              (None, 60, 60, 32)        2432      \n",
      "_________________________________________________________________\n",
      "max_pooling2d (MaxPooling2D) (None, 30, 30, 32)        0         \n",
      "_________________________________________________________________\n",
      "conv2d_1 (Conv2D)            (None, 26, 26, 64)        51264     \n",
      "_________________________________________________________________\n",
      "max_pooling2d_1 (MaxPooling2 (None, 13, 13, 64)        0         \n",
      "_________________________________________________________________\n",
      "flatten (Flatten)            (None, 10816)             0         \n",
      "_________________________________________________________________\n",
      "dense (Dense)                (None, 32)                346144    \n",
      "_________________________________________________________________\n",
      "dropout (Dropout)            (None, 32)                0         \n",
      "_________________________________________________________________\n",
      "dense_1 (Dense)              (None, 1)                 33        \n",
      "=================================================================\n",
      "Total params: 399,873\n",
      "Trainable params: 399,873\n",
      "Non-trainable params: 0\n",
      "_________________________________________________________________\n"
     ]
    }
   ],
   "source": [
    "model.summary()"
   ]
  },
  {
   "cell_type": "code",
   "execution_count": 12,
   "metadata": {},
   "outputs": [],
   "source": [
    "# compile the model \n",
    "model.compile(loss='binary_crossentropy',optimizer='adam',metrics=['accuracy'])"
   ]
  },
  {
   "cell_type": "code",
   "execution_count": 13,
   "metadata": {},
   "outputs": [
    {
     "name": "stdout",
     "output_type": "stream",
     "text": [
      "Epoch 1/100\n",
      "4/4 [==============================] - 1s 180ms/step - loss: 0.7924 - accuracy: 0.5000 - val_loss: 0.7255 - val_accuracy: 0.5000\n",
      "Epoch 2/100\n",
      "4/4 [==============================] - 0s 92ms/step - loss: 0.7563 - accuracy: 0.5000 - val_loss: 0.6992 - val_accuracy: 0.5000\n",
      "Epoch 3/100\n",
      "4/4 [==============================] - 0s 83ms/step - loss: 0.7028 - accuracy: 0.5000 - val_loss: 0.6966 - val_accuracy: 0.5000\n",
      "Epoch 4/100\n",
      "4/4 [==============================] - 0s 93ms/step - loss: 0.6756 - accuracy: 0.5000 - val_loss: 0.6975 - val_accuracy: 0.5000\n",
      "Epoch 5/100\n",
      "4/4 [==============================] - 0s 123ms/step - loss: 0.6754 - accuracy: 0.5000 - val_loss: 0.6943 - val_accuracy: 0.5000\n",
      "Epoch 6/100\n",
      "4/4 [==============================] - 0s 73ms/step - loss: 0.6720 - accuracy: 0.5000 - val_loss: 0.6981 - val_accuracy: 0.5000\n",
      "Epoch 7/100\n",
      "4/4 [==============================] - 0s 89ms/step - loss: 0.6284 - accuracy: 0.5000 - val_loss: 0.7057 - val_accuracy: 0.5000\n",
      "Epoch 8/100\n",
      "4/4 [==============================] - 0s 78ms/step - loss: 0.5771 - accuracy: 0.5000 - val_loss: 0.7304 - val_accuracy: 0.5000\n",
      "Epoch 9/100\n",
      "4/4 [==============================] - 0s 73ms/step - loss: 0.5184 - accuracy: 0.5000 - val_loss: 0.7493 - val_accuracy: 0.5000\n",
      "Epoch 10/100\n",
      "4/4 [==============================] - 0s 79ms/step - loss: 0.5075 - accuracy: 0.5000 - val_loss: 0.7682 - val_accuracy: 0.5000\n",
      "Epoch 11/100\n",
      "4/4 [==============================] - 0s 99ms/step - loss: 0.3954 - accuracy: 0.5000 - val_loss: 0.7935 - val_accuracy: 0.5000\n",
      "Epoch 12/100\n",
      "4/4 [==============================] - 0s 78ms/step - loss: 0.4182 - accuracy: 0.5000 - val_loss: 0.8261 - val_accuracy: 0.5000\n",
      "Epoch 13/100\n",
      "4/4 [==============================] - 0s 73ms/step - loss: 0.3199 - accuracy: 0.5000 - val_loss: 1.0432 - val_accuracy: 0.5000\n",
      "Epoch 14/100\n",
      "4/4 [==============================] - 0s 94ms/step - loss: 0.2984 - accuracy: 0.5000 - val_loss: 1.0080 - val_accuracy: 0.5000\n",
      "Epoch 15/100\n",
      "4/4 [==============================] - 0s 84ms/step - loss: 0.2419 - accuracy: 0.5000 - val_loss: 1.0355 - val_accuracy: 0.5000\n",
      "Epoch 16/100\n",
      "4/4 [==============================] - 0s 80ms/step - loss: 0.1883 - accuracy: 0.5000 - val_loss: 1.1599 - val_accuracy: 0.5000\n",
      "Epoch 17/100\n",
      "4/4 [==============================] - ETA: 0s - loss: 0.1195 - accuracy: 0.43 - 0s 108ms/step - loss: 0.1207 - accuracy: 0.5000 - val_loss: 1.2980 - val_accuracy: 0.5000\n",
      "Epoch 18/100\n",
      "4/4 [==============================] - 0s 103ms/step - loss: 0.2199 - accuracy: 0.5000 - val_loss: 1.5207 - val_accuracy: 0.5000\n",
      "Epoch 19/100\n",
      "4/4 [==============================] - 0s 130ms/step - loss: 0.1636 - accuracy: 0.5000 - val_loss: 1.1719 - val_accuracy: 0.5000\n",
      "Epoch 20/100\n",
      "4/4 [==============================] - 0s 109ms/step - loss: 0.0992 - accuracy: 0.5000 - val_loss: 1.3419 - val_accuracy: 0.5000\n",
      "Epoch 21/100\n",
      "4/4 [==============================] - 0s 91ms/step - loss: 0.0662 - accuracy: 0.5000 - val_loss: 2.0497 - val_accuracy: 0.5000\n",
      "Epoch 22/100\n",
      "4/4 [==============================] - 0s 95ms/step - loss: 0.0452 - accuracy: 0.5000 - val_loss: 2.0918 - val_accuracy: 0.5000\n",
      "Epoch 23/100\n",
      "4/4 [==============================] - 0s 87ms/step - loss: 0.1077 - accuracy: 0.5000 - val_loss: 1.8268 - val_accuracy: 0.5000\n",
      "Epoch 24/100\n",
      "4/4 [==============================] - 0s 84ms/step - loss: 0.0789 - accuracy: 0.5000 - val_loss: 1.7194 - val_accuracy: 0.5000\n",
      "Epoch 25/100\n",
      "4/4 [==============================] - 0s 84ms/step - loss: 0.0330 - accuracy: 0.5000 - val_loss: 1.8854 - val_accuracy: 0.5000\n",
      "Epoch 26/100\n",
      "4/4 [==============================] - 0s 82ms/step - loss: 0.0517 - accuracy: 0.5000 - val_loss: 2.3472 - val_accuracy: 0.5000\n",
      "Epoch 27/100\n",
      "4/4 [==============================] - 0s 84ms/step - loss: 0.0534 - accuracy: 0.5000 - val_loss: 2.6044 - val_accuracy: 0.5000\n",
      "Epoch 28/100\n",
      "4/4 [==============================] - 0s 85ms/step - loss: 0.0562 - accuracy: 0.5000 - val_loss: 2.4947 - val_accuracy: 0.5000\n",
      "Epoch 29/100\n",
      "4/4 [==============================] - 0s 83ms/step - loss: 0.0909 - accuracy: 0.5000 - val_loss: 2.4103 - val_accuracy: 0.5000\n",
      "Epoch 30/100\n",
      "4/4 [==============================] - 0s 89ms/step - loss: 0.0493 - accuracy: 0.5000 - val_loss: 2.3693 - val_accuracy: 0.5000\n",
      "Epoch 31/100\n",
      "4/4 [==============================] - 0s 85ms/step - loss: 0.0085 - accuracy: 0.5000 - val_loss: 2.4230 - val_accuracy: 0.5000\n",
      "Epoch 32/100\n",
      "4/4 [==============================] - 0s 79ms/step - loss: 0.0440 - accuracy: 0.5000 - val_loss: 2.1722 - val_accuracy: 0.5000\n",
      "Epoch 33/100\n",
      "4/4 [==============================] - 0s 84ms/step - loss: 0.0624 - accuracy: 0.5000 - val_loss: 2.0933 - val_accuracy: 0.5000\n",
      "Epoch 34/100\n",
      "4/4 [==============================] - 0s 86ms/step - loss: 0.0177 - accuracy: 0.5000 - val_loss: 2.1574 - val_accuracy: 0.5000\n",
      "Epoch 35/100\n",
      "4/4 [==============================] - 0s 105ms/step - loss: 0.0676 - accuracy: 0.5000 - val_loss: 2.4530 - val_accuracy: 0.5000\n",
      "Epoch 36/100\n",
      "4/4 [==============================] - 0s 81ms/step - loss: 0.0264 - accuracy: 0.5000 - val_loss: 2.5408 - val_accuracy: 0.5000\n",
      "Epoch 37/100\n",
      "4/4 [==============================] - 0s 96ms/step - loss: 0.0066 - accuracy: 0.5000 - val_loss: 2.6625 - val_accuracy: 0.5000\n",
      "Epoch 38/100\n",
      "4/4 [==============================] - 0s 83ms/step - loss: 0.0201 - accuracy: 0.5000 - val_loss: 2.7430 - val_accuracy: 0.5000\n",
      "Epoch 39/100\n",
      "4/4 [==============================] - 0s 89ms/step - loss: 0.0285 - accuracy: 0.5000 - val_loss: 3.0142 - val_accuracy: 0.5000\n",
      "Epoch 40/100\n",
      "4/4 [==============================] - 0s 84ms/step - loss: 0.0356 - accuracy: 0.5000 - val_loss: 3.0857 - val_accuracy: 0.5000\n",
      "Epoch 41/100\n",
      "4/4 [==============================] - 0s 83ms/step - loss: 0.0292 - accuracy: 0.5000 - val_loss: 3.1476 - val_accuracy: 0.5000\n",
      "Epoch 42/100\n",
      "4/4 [==============================] - 0s 89ms/step - loss: 0.0245 - accuracy: 0.5000 - val_loss: 3.1583 - val_accuracy: 0.5000\n",
      "Epoch 43/100\n",
      "4/4 [==============================] - 0s 84ms/step - loss: 0.0195 - accuracy: 0.5000 - val_loss: 3.2030 - val_accuracy: 0.5000\n",
      "Epoch 44/100\n",
      "4/4 [==============================] - 0s 86ms/step - loss: 0.0185 - accuracy: 0.5000 - val_loss: 3.2900 - val_accuracy: 0.5000\n",
      "Epoch 45/100\n",
      "4/4 [==============================] - 0s 83ms/step - loss: 0.0028 - accuracy: 0.5000 - val_loss: 3.4470 - val_accuracy: 0.5000\n",
      "Epoch 46/100\n",
      "4/4 [==============================] - 0s 85ms/step - loss: 0.0342 - accuracy: 0.5000 - val_loss: 3.5951 - val_accuracy: 0.5000\n",
      "Epoch 47/100\n",
      "4/4 [==============================] - 0s 99ms/step - loss: 0.0310 - accuracy: 0.5000 - val_loss: 3.7816 - val_accuracy: 0.5000\n",
      "Epoch 48/100\n",
      "4/4 [==============================] - 0s 98ms/step - loss: 0.0324 - accuracy: 0.5000 - val_loss: 3.2819 - val_accuracy: 0.5000\n",
      "Epoch 49/100\n",
      "4/4 [==============================] - 0s 86ms/step - loss: 0.0475 - accuracy: 0.5000 - val_loss: 2.8550 - val_accuracy: 0.5000\n",
      "Epoch 50/100\n",
      "4/4 [==============================] - 0s 78ms/step - loss: 0.0144 - accuracy: 0.5000 - val_loss: 2.7841 - val_accuracy: 0.5000\n",
      "Epoch 51/100\n",
      "4/4 [==============================] - 0s 84ms/step - loss: 0.0193 - accuracy: 0.5000 - val_loss: 2.9715 - val_accuracy: 0.5000\n",
      "Epoch 52/100\n",
      "4/4 [==============================] - 0s 84ms/step - loss: 0.0062 - accuracy: 0.5000 - val_loss: 3.1915 - val_accuracy: 0.5000\n",
      "Epoch 53/100\n",
      "4/4 [==============================] - 0s 79ms/step - loss: 0.0035 - accuracy: 0.5000 - val_loss: 3.3961 - val_accuracy: 0.5000\n",
      "Epoch 54/100\n",
      "4/4 [==============================] - 0s 77ms/step - loss: 0.0323 - accuracy: 0.5000 - val_loss: 3.1441 - val_accuracy: 0.5000\n",
      "Epoch 55/100\n",
      "4/4 [==============================] - 0s 85ms/step - loss: 0.0315 - accuracy: 0.5000 - val_loss: 2.6525 - val_accuracy: 0.5000\n",
      "Epoch 56/100\n",
      "4/4 [==============================] - 0s 81ms/step - loss: 0.0401 - accuracy: 0.5000 - val_loss: 2.7156 - val_accuracy: 0.5000\n",
      "Epoch 57/100\n",
      "4/4 [==============================] - 0s 82ms/step - loss: 0.0088 - accuracy: 0.5000 - val_loss: 2.9771 - val_accuracy: 0.5000\n",
      "Epoch 58/100\n",
      "4/4 [==============================] - 0s 88ms/step - loss: 0.0124 - accuracy: 0.5000 - val_loss: 3.2696 - val_accuracy: 0.5000\n",
      "Epoch 59/100\n",
      "4/4 [==============================] - 0s 95ms/step - loss: 0.0555 - accuracy: 0.5000 - val_loss: 3.3862 - val_accuracy: 0.5000\n",
      "Epoch 60/100\n",
      "4/4 [==============================] - 0s 83ms/step - loss: 0.0223 - accuracy: 0.5000 - val_loss: 3.4305 - val_accuracy: 0.5000\n",
      "Epoch 61/100\n",
      "4/4 [==============================] - 0s 84ms/step - loss: 0.0227 - accuracy: 0.5000 - val_loss: 3.4574 - val_accuracy: 0.5000\n",
      "Epoch 62/100\n",
      "4/4 [==============================] - 0s 86ms/step - loss: 0.0087 - accuracy: 0.5000 - val_loss: 3.5313 - val_accuracy: 0.5000\n",
      "Epoch 63/100\n",
      "4/4 [==============================] - 0s 85ms/step - loss: 0.0313 - accuracy: 0.5000 - val_loss: 3.7599 - val_accuracy: 0.5000\n",
      "Epoch 64/100\n",
      "4/4 [==============================] - 0s 100ms/step - loss: 0.0362 - accuracy: 0.5000 - val_loss: 3.9074 - val_accuracy: 0.5000\n",
      "Epoch 65/100\n",
      "4/4 [==============================] - 0s 95ms/step - loss: 0.0211 - accuracy: 0.5000 - val_loss: 4.0534 - val_accuracy: 0.5000\n",
      "Epoch 66/100\n",
      "4/4 [==============================] - 0s 85ms/step - loss: 0.0233 - accuracy: 0.5000 - val_loss: 4.1466 - val_accuracy: 0.5000\n",
      "Epoch 67/100\n",
      "4/4 [==============================] - 0s 90ms/step - loss: 0.0012 - accuracy: 0.5000 - val_loss: 4.1643 - val_accuracy: 0.5000\n",
      "Epoch 68/100\n",
      "4/4 [==============================] - 0s 92ms/step - loss: 0.0017 - accuracy: 0.5000 - val_loss: 4.2382 - val_accuracy: 0.5000\n",
      "Epoch 69/100\n",
      "4/4 [==============================] - 0s 90ms/step - loss: 0.0244 - accuracy: 0.5000 - val_loss: 4.2943 - val_accuracy: 0.5000\n",
      "Epoch 70/100\n",
      "4/4 [==============================] - 0s 89ms/step - loss: 0.0031 - accuracy: 0.5000 - val_loss: 4.3061 - val_accuracy: 0.5000\n",
      "Epoch 71/100\n",
      "4/4 [==============================] - 0s 93ms/step - loss: 0.0029 - accuracy: 0.5000 - val_loss: 4.3160 - val_accuracy: 0.5000\n",
      "Epoch 72/100\n",
      "4/4 [==============================] - 0s 95ms/step - loss: 0.0012 - accuracy: 0.5000 - val_loss: 4.3701 - val_accuracy: 0.5000\n",
      "Epoch 73/100\n",
      "4/4 [==============================] - 0s 88ms/step - loss: 5.6172e-04 - accuracy: 0.5000 - val_loss: 4.4487 - val_accuracy: 0.5000\n",
      "Epoch 74/100\n",
      "4/4 [==============================] - 0s 93ms/step - loss: 0.0635 - accuracy: 0.5000 - val_loss: 3.3908 - val_accuracy: 0.5000\n",
      "Epoch 75/100\n",
      "4/4 [==============================] - 0s 90ms/step - loss: 0.0198 - accuracy: 0.5000 - val_loss: 3.0318 - val_accuracy: 0.5000\n",
      "Epoch 76/100\n",
      "4/4 [==============================] - 0s 96ms/step - loss: 0.0067 - accuracy: 0.5000 - val_loss: 2.9591 - val_accuracy: 0.5000\n",
      "Epoch 77/100\n",
      "4/4 [==============================] - 0s 93ms/step - loss: 0.0038 - accuracy: 0.5000 - val_loss: 3.0290 - val_accuracy: 0.5000\n",
      "Epoch 78/100\n",
      "4/4 [==============================] - 0s 86ms/step - loss: 0.0292 - accuracy: 0.5000 - val_loss: 3.1437 - val_accuracy: 0.5000\n",
      "Epoch 79/100\n",
      "4/4 [==============================] - 0s 101ms/step - loss: 0.0052 - accuracy: 0.5000 - val_loss: 3.1451 - val_accuracy: 0.5000\n",
      "Epoch 80/100\n",
      "4/4 [==============================] - 0s 113ms/step - loss: 0.0162 - accuracy: 0.5000 - val_loss: 3.3374 - val_accuracy: 0.5000\n",
      "Epoch 81/100\n",
      "4/4 [==============================] - 0s 110ms/step - loss: 0.0134 - accuracy: 0.5000 - val_loss: 3.8413 - val_accuracy: 0.5000\n",
      "Epoch 82/100\n",
      "4/4 [==============================] - 0s 78ms/step - loss: 0.0204 - accuracy: 0.5000 - val_loss: 4.5451 - val_accuracy: 0.5000\n",
      "Epoch 83/100\n",
      "4/4 [==============================] - 0s 78ms/step - loss: 0.0208 - accuracy: 0.5000 - val_loss: 3.7646 - val_accuracy: 0.5000\n",
      "Epoch 84/100\n",
      "4/4 [==============================] - 0s 89ms/step - loss: 0.0145 - accuracy: 0.5000 - val_loss: 3.7227 - val_accuracy: 0.5000\n",
      "Epoch 85/100\n",
      "4/4 [==============================] - 0s 78ms/step - loss: 0.0391 - accuracy: 0.5000 - val_loss: 3.9700 - val_accuracy: 0.5000\n",
      "Epoch 86/100\n",
      "4/4 [==============================] - 0s 126ms/step - loss: 0.0041 - accuracy: 0.5000 - val_loss: 3.8156 - val_accuracy: 0.5000\n",
      "Epoch 87/100\n",
      "4/4 [==============================] - 0s 94ms/step - loss: 0.0385 - accuracy: 0.5000 - val_loss: 3.5183 - val_accuracy: 0.5000\n",
      "Epoch 88/100\n",
      "4/4 [==============================] - 1s 157ms/step - loss: 0.0238 - accuracy: 0.5000 - val_loss: 3.4521 - val_accuracy: 0.5000\n",
      "Epoch 89/100\n",
      "4/4 [==============================] - 0s 120ms/step - loss: 0.0097 - accuracy: 0.5000 - val_loss: 3.4706 - val_accuracy: 0.5000\n",
      "Epoch 90/100\n",
      "4/4 [==============================] - 0s 110ms/step - loss: 0.0332 - accuracy: 0.5000 - val_loss: 3.5784 - val_accuracy: 0.5000\n",
      "Epoch 91/100\n",
      "4/4 [==============================] - 0s 100ms/step - loss: 4.3137e-04 - accuracy: 0.5000 - val_loss: 3.6297 - val_accuracy: 0.5000\n",
      "Epoch 92/100\n",
      "4/4 [==============================] - 0s 97ms/step - loss: 0.0066 - accuracy: 0.5000 - val_loss: 3.7081 - val_accuracy: 0.5000\n",
      "Epoch 93/100\n",
      "4/4 [==============================] - 0s 108ms/step - loss: 0.0207 - accuracy: 0.5000 - val_loss: 3.6879 - val_accuracy: 0.5000\n",
      "Epoch 94/100\n",
      "4/4 [==============================] - 0s 114ms/step - loss: 0.0015 - accuracy: 0.5000 - val_loss: 3.7098 - val_accuracy: 0.5000\n",
      "Epoch 95/100\n",
      "4/4 [==============================] - 0s 108ms/step - loss: 0.0186 - accuracy: 0.5000 - val_loss: 3.7660 - val_accuracy: 0.5000\n",
      "Epoch 96/100\n",
      "4/4 [==============================] - 0s 118ms/step - loss: 0.0011 - accuracy: 0.5000 - val_loss: 3.8455 - val_accuracy: 0.5000\n",
      "Epoch 97/100\n",
      "4/4 [==============================] - 0s 109ms/step - loss: 0.0215 - accuracy: 0.5000 - val_loss: 3.9900 - val_accuracy: 0.5000\n",
      "Epoch 98/100\n",
      "4/4 [==============================] - 0s 105ms/step - loss: 0.0020 - accuracy: 0.5000 - val_loss: 4.0972 - val_accuracy: 0.5000\n",
      "Epoch 99/100\n",
      "4/4 [==============================] - 0s 100ms/step - loss: 0.0021 - accuracy: 0.5000 - val_loss: 4.1172 - val_accuracy: 0.5000\n",
      "Epoch 100/100\n",
      "4/4 [==============================] - 1s 137ms/step - loss: 0.0029 - accuracy: 0.5000 - val_loss: 4.2007 - val_accuracy: 0.5000\n"
     ]
    },
    {
     "data": {
      "text/plain": [
       "<tensorflow.python.keras.callbacks.History at 0x20323888e50>"
      ]
     },
     "execution_count": 13,
     "metadata": {},
     "output_type": "execute_result"
    }
   ],
   "source": [
    "model.fit(training_set,epochs=100,validation_data=test_set)"
   ]
  },
  {
   "cell_type": "code",
   "execution_count": 14,
   "metadata": {},
   "outputs": [
    {
     "name": "stdout",
     "output_type": "stream",
     "text": [
      "2/2 [==============================] - 0s 43ms/step - loss: 4.2007 - accuracy: 0.5000\n"
     ]
    },
    {
     "data": {
      "text/plain": [
       "[4.200721740722656, 0.5]"
      ]
     },
     "execution_count": 14,
     "metadata": {},
     "output_type": "execute_result"
    }
   ],
   "source": [
    "model.evaluate(test_set)"
   ]
  },
  {
   "cell_type": "code",
   "execution_count": 15,
   "metadata": {},
   "outputs": [
    {
     "name": "stdout",
     "output_type": "stream",
     "text": [
      "4/4 [==============================] - 0s 45ms/step - loss: 3.1282e-04 - accuracy: 0.5000\n"
     ]
    },
    {
     "data": {
      "text/plain": [
       "[0.0003128249663859606, 0.5]"
      ]
     },
     "execution_count": 15,
     "metadata": {},
     "output_type": "execute_result"
    }
   ],
   "source": [
    "model.evaluate(training_set)"
   ]
  },
  {
   "cell_type": "code",
   "execution_count": 16,
   "metadata": {},
   "outputs": [],
   "source": [
    "# check the misclassification \n",
    "import pandas as pd \n",
    "test_set.reset\n",
    "predications=model.predict(test_set)\n",
    "# print(predications)"
   ]
  },
  {
   "cell_type": "code",
   "execution_count": 17,
   "metadata": {},
   "outputs": [],
   "source": [
    "df=pd.DataFrame({'filename':test_set.filenames,\n",
    "\n",
    "                'predict':predications[:,0],\n",
    "\n",
    "                'y':test_set.classes})"
   ]
  },
  {
   "cell_type": "code",
   "execution_count": 18,
   "metadata": {},
   "outputs": [
    {
     "data": {
      "text/html": [
       "<div>\n",
       "<style scoped>\n",
       "    .dataframe tbody tr th:only-of-type {\n",
       "        vertical-align: middle;\n",
       "    }\n",
       "\n",
       "    .dataframe tbody tr th {\n",
       "        vertical-align: top;\n",
       "    }\n",
       "\n",
       "    .dataframe thead th {\n",
       "        text-align: right;\n",
       "    }\n",
       "</style>\n",
       "<table border=\"1\" class=\"dataframe\">\n",
       "  <thead>\n",
       "    <tr style=\"text-align: right;\">\n",
       "      <th></th>\n",
       "      <th>filename</th>\n",
       "      <th>predict</th>\n",
       "      <th>y</th>\n",
       "    </tr>\n",
       "  </thead>\n",
       "  <tbody>\n",
       "    <tr>\n",
       "      <th>0</th>\n",
       "      <td>cats\\101.jpg</td>\n",
       "      <td>1.0</td>\n",
       "      <td>0</td>\n",
       "    </tr>\n",
       "    <tr>\n",
       "      <th>1</th>\n",
       "      <td>cats\\102.jpg</td>\n",
       "      <td>1.0</td>\n",
       "      <td>0</td>\n",
       "    </tr>\n",
       "    <tr>\n",
       "      <th>2</th>\n",
       "      <td>cats\\103.jpg</td>\n",
       "      <td>1.0</td>\n",
       "      <td>0</td>\n",
       "    </tr>\n",
       "    <tr>\n",
       "      <th>3</th>\n",
       "      <td>cats\\104.jpg</td>\n",
       "      <td>1.0</td>\n",
       "      <td>0</td>\n",
       "    </tr>\n",
       "    <tr>\n",
       "      <th>4</th>\n",
       "      <td>cats\\105.jpg</td>\n",
       "      <td>1.0</td>\n",
       "      <td>0</td>\n",
       "    </tr>\n",
       "    <tr>\n",
       "      <th>5</th>\n",
       "      <td>cats\\106.jpg</td>\n",
       "      <td>1.0</td>\n",
       "      <td>0</td>\n",
       "    </tr>\n",
       "    <tr>\n",
       "      <th>6</th>\n",
       "      <td>cats\\107.jpg</td>\n",
       "      <td>1.0</td>\n",
       "      <td>0</td>\n",
       "    </tr>\n",
       "    <tr>\n",
       "      <th>7</th>\n",
       "      <td>cats\\108.jpg</td>\n",
       "      <td>1.0</td>\n",
       "      <td>0</td>\n",
       "    </tr>\n",
       "    <tr>\n",
       "      <th>8</th>\n",
       "      <td>cats\\109.jpg</td>\n",
       "      <td>1.0</td>\n",
       "      <td>0</td>\n",
       "    </tr>\n",
       "    <tr>\n",
       "      <th>9</th>\n",
       "      <td>cats\\110.jpg</td>\n",
       "      <td>1.0</td>\n",
       "      <td>0</td>\n",
       "    </tr>\n",
       "    <tr>\n",
       "      <th>10</th>\n",
       "      <td>dogs\\101.jpg</td>\n",
       "      <td>1.0</td>\n",
       "      <td>1</td>\n",
       "    </tr>\n",
       "    <tr>\n",
       "      <th>11</th>\n",
       "      <td>dogs\\102.jpg</td>\n",
       "      <td>1.0</td>\n",
       "      <td>1</td>\n",
       "    </tr>\n",
       "    <tr>\n",
       "      <th>12</th>\n",
       "      <td>dogs\\103.jpg</td>\n",
       "      <td>1.0</td>\n",
       "      <td>1</td>\n",
       "    </tr>\n",
       "    <tr>\n",
       "      <th>13</th>\n",
       "      <td>dogs\\104.jpg</td>\n",
       "      <td>1.0</td>\n",
       "      <td>1</td>\n",
       "    </tr>\n",
       "    <tr>\n",
       "      <th>14</th>\n",
       "      <td>dogs\\105.jpg</td>\n",
       "      <td>1.0</td>\n",
       "      <td>1</td>\n",
       "    </tr>\n",
       "    <tr>\n",
       "      <th>15</th>\n",
       "      <td>dogs\\106.jpg</td>\n",
       "      <td>1.0</td>\n",
       "      <td>1</td>\n",
       "    </tr>\n",
       "    <tr>\n",
       "      <th>16</th>\n",
       "      <td>dogs\\107.jpg</td>\n",
       "      <td>1.0</td>\n",
       "      <td>1</td>\n",
       "    </tr>\n",
       "    <tr>\n",
       "      <th>17</th>\n",
       "      <td>dogs\\108.jpg</td>\n",
       "      <td>1.0</td>\n",
       "      <td>1</td>\n",
       "    </tr>\n",
       "    <tr>\n",
       "      <th>18</th>\n",
       "      <td>dogs\\109.jpg</td>\n",
       "      <td>1.0</td>\n",
       "      <td>1</td>\n",
       "    </tr>\n",
       "    <tr>\n",
       "      <th>19</th>\n",
       "      <td>dogs\\110.jpg</td>\n",
       "      <td>1.0</td>\n",
       "      <td>1</td>\n",
       "    </tr>\n",
       "  </tbody>\n",
       "</table>\n",
       "</div>"
      ],
      "text/plain": [
       "        filename  predict  y\n",
       "0   cats\\101.jpg      1.0  0\n",
       "1   cats\\102.jpg      1.0  0\n",
       "2   cats\\103.jpg      1.0  0\n",
       "3   cats\\104.jpg      1.0  0\n",
       "4   cats\\105.jpg      1.0  0\n",
       "5   cats\\106.jpg      1.0  0\n",
       "6   cats\\107.jpg      1.0  0\n",
       "7   cats\\108.jpg      1.0  0\n",
       "8   cats\\109.jpg      1.0  0\n",
       "9   cats\\110.jpg      1.0  0\n",
       "10  dogs\\101.jpg      1.0  1\n",
       "11  dogs\\102.jpg      1.0  1\n",
       "12  dogs\\103.jpg      1.0  1\n",
       "13  dogs\\104.jpg      1.0  1\n",
       "14  dogs\\105.jpg      1.0  1\n",
       "15  dogs\\106.jpg      1.0  1\n",
       "16  dogs\\107.jpg      1.0  1\n",
       "17  dogs\\108.jpg      1.0  1\n",
       "18  dogs\\109.jpg      1.0  1\n",
       "19  dogs\\110.jpg      1.0  1"
      ]
     },
     "execution_count": 18,
     "metadata": {},
     "output_type": "execute_result"
    }
   ],
   "source": [
    "df"
   ]
  }
 ],
 "metadata": {
  "kernelspec": {
   "display_name": "base",
   "language": "python",
   "name": "python3"
  },
  "language_info": {
   "codemirror_mode": {
    "name": "ipython",
    "version": 3
   },
   "file_extension": ".py",
   "mimetype": "text/x-python",
   "name": "python",
   "nbconvert_exporter": "python",
   "pygments_lexer": "ipython3",
   "version": "3.9.13"
  },
  "orig_nbformat": 4
 },
 "nbformat": 4,
 "nbformat_minor": 2
}
