{
  "cells": [
    {
      "cell_type": "markdown",
      "metadata": {
        "id": "Xd5ME8TJdwxY"
      },
      "source": [
        "# Emotion Recognition - Course end Project"
      ]
    },
    {
      "cell_type": "markdown",
      "metadata": {
        "id": "4QCLJ2Zse6fv"
      },
      "source": [
        "##Objective:\n",
        "\n",
        "To build a model using a convolutional neural network that can classify a person's emotion"
      ]
    },
    {
      "cell_type": "markdown",
      "metadata": {
        "id": "S8PUw4ulfOL6"
      },
      "source": [
        "## Dataset description:\n",
        "\n",
        "The dataset contains two folders named Train and Test. These folders have approximately 35,000 images of seven different human emotions, such as anger, disgust, fear, happiness, neutral, sadness, and surprise.\n",
        "\n",
        "\n",
        "\n",
        "Train folder: This folder has images for training the model, which is divided into subfolders having the same name as the class.\n",
        "\n",
        "Test folder: This folder has images for testing the model, which is divided into subfolders having the same name as the class."
      ]
    },
    {
      "cell_type": "code",
      "execution_count": 2,
      "metadata": {
        "id": "Glg23pO3fqmG"
      },
      "outputs": [],
      "source": [
        "# Import the necessary libraries\n",
        "import matplotlib.pyplot as plt\n",
        "import numpy as np\n",
        "import cv2\n",
        "import tensorflow as tf\n",
        "import sklearn.metrics as metric\n",
        "\n",
        "\n",
        "from tensorflow import keras\n",
        "from tensorflow.keras import layers\n",
        "from tensorflow.keras.models import Sequential,Model\n",
        "from keras.api._v2.keras import activations\n",
        "from tensorflow.keras.callbacks import EarlyStopping\n",
        "import pathlib\n",
        "from tensorflow.keras.applications.vgg16 import VGG16\n",
        "from keras.callbacks import ModelCheckpoint, EarlyStopping\n"
      ]
    },
    {
      "cell_type": "code",
      "execution_count": null,
      "metadata": {
        "id": "8k8P_b5VlGrI"
      },
      "outputs": [],
      "source": [
        "# !unzip /content/Dataset_Emotion_Recognition.zip"
      ]
    },
    {
      "cell_type": "code",
      "execution_count": 4,
      "metadata": {
        "id": "hR0-6OKrlchy"
      },
      "outputs": [],
      "source": [
        "train_data_dir = pathlib.Path('data/train/')\n",
        "test_data_dir = pathlib.Path('data/test/')"
      ]
    },
    {
      "cell_type": "code",
      "execution_count": 5,
      "metadata": {
        "colab": {
          "base_uri": "https://localhost:8080/"
        },
        "id": "2Fks0BeYlsIf",
        "outputId": "27534d34-fd43-4f96-c6ca-884b065aa985"
      },
      "outputs": [
        {
          "name": "stdout",
          "output_type": "stream",
          "text": [
            "28820 7066\n"
          ]
        }
      ],
      "source": [
        "tr_image_count = len(list(train_data_dir.glob('*/*.jpg')))\n",
        "te_image_count = len(list(test_data_dir.glob('*/*.jpg')))\n",
        "print(tr_image_count,te_image_count)"
      ]
    },
    {
      "cell_type": "code",
      "execution_count": null,
      "metadata": {
        "id": "gmZa26x71Y4I"
      },
      "outputs": [],
      "source": [
        "emotions = ('angry','disgust','fear','happy','neutral','sad','surprise')\n"
      ]
    },
    {
      "cell_type": "code",
      "execution_count": null,
      "metadata": {
        "id": "M1JcwsGexK3a"
      },
      "outputs": [],
      "source": [
        "# Plot sample images for all the classes\n",
        "# fig, axes = plt.subplots(7,1, figsize=(10,10))\n",
        "for emotion_sample in emotions:\n",
        " path= '{}/*'.format(emotion_sample)\n",
        " emo_imgs = list(train_data_dir.glob(path))\n",
        " plt.figure()\n",
        " plt.title(emotion_sample)\n",
        " img= cv2.imread(str(emo_imgs[0]))\n",
        " plt.imshow(img)\n"
      ]
    },
    {
      "cell_type": "code",
      "execution_count": null,
      "metadata": {
        "colab": {
          "base_uri": "https://localhost:8080/",
          "height": 447
        },
        "id": "ws8r0iQc0Snn",
        "outputId": "e5e337dd-5c6b-4253-e416-75d243d01da9"
      },
      "outputs": [
        {
          "data": {
            "text/plain": [
              "<BarContainer object of 7 artists>"
            ]
          },
          "execution_count": 53,
          "metadata": {},
          "output_type": "execute_result"
        },
        {
          "data": {
            "image/png": "[encoded data removed]",
            "text/plain": [
              "<Figure size 640x480 with 1 Axes>"
            ]
          },
          "metadata": {},
          "output_type": "display_data"
        }
      ],
      "source": [
        "# Plot the bar graph for the number of images in each class for both training and testing data\n",
        "# training data\n",
        "freq = []\n",
        "\n",
        "for emotion_sample in emotions:\n",
        " path= '{}/*'.format(emotion_sample)\n",
        " emo = list(train_data_dir.glob(path))\n",
        " for i in range(len(emo)):\n",
        "  i=i+1\n",
        " freq.append(i)\n",
        "\n",
        "plt.bar(x=emotions,height=freq)"
      ]
    },
    {
      "cell_type": "code",
      "execution_count": null,
      "metadata": {
        "id": "EnGcUXFmIbGn"
      },
      "outputs": [],
      "source": [
        "# testing data\n",
        "freq = []\n",
        "\n",
        "for emotion_sample in emotions:\n",
        " path= '{}/*'.format(emotion_sample)\n",
        " emo = list(test_data_dir.glob(path))\n",
        " for i in range(len(emo)):\n",
        "  i=i+1\n",
        " freq.append(i)\n",
        "\n",
        "plt.bar(x=emotions,height=freq)"
      ]
    },
    {
      "cell_type": "code",
      "execution_count": 6,
      "metadata": {
        "id": "X-sb__HSPEQW"
      },
      "outputs": [],
      "source": [
        "batch_size = 32"
      ]
    },
    {
      "cell_type": "code",
      "execution_count": 7,
      "metadata": {
        "id": "R0xqUaJd0b7w"
      },
      "outputs": [],
      "source": [
        "# Build a data augmentation for train data to create new data with translation, rescale and flip,\n",
        "#  and rotation transformations. Rescale the image at 48x48\n",
        "training_data_gen=tf.keras.preprocessing.image.ImageDataGenerator(\n",
        "        rescale=1./255,\n",
        "        shear_range=0.2,\n",
        "        zoom_range=0.2,\n",
        "        horizontal_flip=True,\n",
        "        vertical_flip=True\n",
        ")\n",
        "\n",
        "# Build a data augmentation for test data to create new data and rescale the image at 48x48\n",
        "test_data_gen=tf.keras.preprocessing.image.ImageDataGenerator(rescale=1./255)"
      ]
    },
    {
      "cell_type": "code",
      "execution_count": 8,
      "metadata": {
        "colab": {
          "base_uri": "https://localhost:8080/"
        },
        "id": "ZTLgTUzrtM3T",
        "outputId": "ad095985-95d4-4e5e-d82e-878de3a5b825"
      },
      "outputs": [
        {
          "name": "stdout",
          "output_type": "stream",
          "text": [
            "Found 28820 images belonging to 7 classes.\n"
          ]
        }
      ],
      "source": [
        "# Read images directly from the train folder and test folder using the appropriate function\n",
        "\n",
        "train_ds = training_data_gen.flow_from_directory(\n",
        "  train_data_dir,\n",
        "  seed=123,\n",
        "   target_size=(48,48),\n",
        "  batch_size=batch_size,\n",
        "  class_mode='categorical')"
      ]
    },
    {
      "cell_type": "code",
      "execution_count": 9,
      "metadata": {
        "colab": {
          "base_uri": "https://localhost:8080/"
        },
        "id": "gKpSo7tStoij",
        "outputId": "e9018b6c-3ae8-462f-a738-646fd3ebf626"
      },
      "outputs": [
        {
          "name": "stdout",
          "output_type": "stream",
          "text": [
            "Found 7066 images belonging to 7 classes.\n"
          ]
        }
      ],
      "source": [
        "test_ds= test_data_gen.flow_from_directory(\n",
        "  test_data_dir,\n",
        "  seed=123,\n",
        "   target_size=(48,48),\n",
        "  batch_size=batch_size,\n",
        "  class_mode='categorical')"
      ]
    },
    {
      "cell_type": "code",
      "execution_count": 10,
      "metadata": {
        "colab": {
          "base_uri": "https://localhost:8080/"
        },
        "id": "SrTlX46cxlNy",
        "outputId": "e87f23de-3a84-4460-cb53-3d3ba9e75079"
      },
      "outputs": [
        {
          "name": "stdout",
          "output_type": "stream",
          "text": [
            "(48, 48, 3)\n",
            "(48, 48, 3)\n"
          ]
        }
      ],
      "source": [
        "print(train_ds.image_shape)\n",
        "print(test_ds.image_shape)"
      ]
    },
    {
      "cell_type": "code",
      "execution_count": null,
      "metadata": {
        "id": "I2YVRyTyx65Z"
      },
      "outputs": [],
      "source": [
        "test_ds[1]"
      ]
    },
    {
      "cell_type": "code",
      "execution_count": null,
      "metadata": {
        "colab": {
          "base_uri": "https://localhost:8080/"
        },
        "id": "ieAkV7fuUEwI",
        "outputId": "34162758-3dc7-421a-e251-604b921d7841"
      },
      "outputs": [
        {
          "data": {
            "text/plain": [
              "7066"
            ]
          },
          "execution_count": 40,
          "metadata": {},
          "output_type": "execute_result"
        }
      ],
      "source": [
        "test_ds.dtype\n",
        "len(test_ds.classes)"
      ]
    },
    {
      "cell_type": "markdown",
      "metadata": {
        "id": "nx0Bvzd5TGek"
      },
      "source": [
        "## Build 3 CNN model with:"
      ]
    },
    {
      "cell_type": "markdown",
      "metadata": {
        "id": "AI6Di-1zfowr"
      },
      "source": [
        "### 1- CNN Architecture:\n"
      ]
    },
    {
      "cell_type": "markdown",
      "metadata": {
        "id": "YGbp6uhGUxYU"
      },
      "source": [
        "##### color model"
      ]
    },
    {
      "cell_type": "code",
      "execution_count": null,
      "metadata": {
        "colab": {
          "base_uri": "https://localhost:8080/"
        },
        "id": "lYUn2fGQf7ZA",
        "outputId": "e932b14c-a939-4a71-f124-6b63a0d81df5"
      },
      "outputs": [
        {
          "name": "stdout",
          "output_type": "stream",
          "text": [
            "Model: \"sequential\"\n",
            "_________________________________________________________________\n",
            " Layer (type)                Output Shape              Param #   \n",
            "=================================================================\n",
            " conv2d (Conv2D)             (None, 48, 48, 64)        1792      \n",
            "                                                                 \n",
            " batch_normalization (BatchN  (None, 48, 48, 64)       256       \n",
            " ormalization)                                                   \n",
            "                                                                 \n",
            " conv2d_1 (Conv2D)           (None, 48, 48, 64)        36928     \n",
            "                                                                 \n",
            " batch_normalization_1 (Batc  (None, 48, 48, 64)       256       \n",
            " hNormalization)                                                 \n",
            "                                                                 \n",
            " max_pooling2d (MaxPooling2D  (None, 24, 24, 64)       0         \n",
            " )                                                               \n",
            "                                                                 \n",
            " dropout (Dropout)           (None, 24, 24, 64)        0         \n",
            "                                                                 \n",
            " conv2d_2 (Conv2D)           (None, 24, 24, 64)        36928     \n",
            "                                                                 \n",
            " batch_normalization_2 (Batc  (None, 24, 24, 64)       256       \n",
            " hNormalization)                                                 \n",
            "                                                                 \n",
            " conv2d_3 (Conv2D)           (None, 24, 24, 64)        36928     \n",
            "                                                                 \n",
            " batch_normalization_3 (Batc  (None, 24, 24, 64)       256       \n",
            " hNormalization)                                                 \n",
            "                                                                 \n",
            " max_pooling2d_1 (MaxPooling  (None, 12, 12, 64)       0         \n",
            " 2D)                                                             \n",
            "                                                                 \n",
            " dropout_1 (Dropout)         (None, 12, 12, 64)        0         \n",
            "                                                                 \n",
            " conv2d_4 (Conv2D)           (None, 12, 12, 128)       73856     \n",
            "                                                                 \n",
            " batch_normalization_4 (Batc  (None, 12, 12, 128)      512       \n",
            " hNormalization)                                                 \n",
            "                                                                 \n",
            " conv2d_5 (Conv2D)           (None, 12, 12, 128)       147584    \n",
            "                                                                 \n",
            " batch_normalization_5 (Batc  (None, 12, 12, 128)      512       \n",
            " hNormalization)                                                 \n",
            "                                                                 \n",
            " max_pooling2d_2 (MaxPooling  (None, 6, 6, 128)        0         \n",
            " 2D)                                                             \n",
            "                                                                 \n",
            " dropout_2 (Dropout)         (None, 6, 6, 128)         0         \n",
            "                                                                 \n",
            " flatten (Flatten)           (None, 4608)              0         \n",
            "                                                                 \n",
            " dense (Dense)               (None, 256)               1179904   \n",
            "                                                                 \n",
            " batch_normalization_6 (Batc  (None, 256)              1024      \n",
            " hNormalization)                                                 \n",
            "                                                                 \n",
            " dropout_3 (Dropout)         (None, 256)               0         \n",
            "                                                                 \n",
            " dense_1 (Dense)             (None, 128)               32896     \n",
            "                                                                 \n",
            " batch_normalization_7 (Batc  (None, 128)              512       \n",
            " hNormalization)                                                 \n",
            "                                                                 \n",
            " dropout_4 (Dropout)         (None, 128)               0         \n",
            "                                                                 \n",
            " dense_2 (Dense)             (None, 7)                 903       \n",
            "                                                                 \n",
            "=================================================================\n",
            "Total params: 1,551,303\n",
            "Trainable params: 1,549,511\n",
            "Non-trainable params: 1,792\n",
            "_________________________________________________________________\n"
          ]
        }
      ],
      "source": [
        "# kernel_size: An integer or tuple/list of 2 integers, specifying the height and width of the 2D convolution window. Can be a single integer to  specify the same value for all spatial dimensions.\n",
        "# \"same\" results in padding with zeros evenly to the left/right or up/down of the input. When padding=\"same\" and strides=1, the output has the same size as the input.\n",
        "\n",
        "model= Sequential([\n",
        "\n",
        "      layers.Input(shape=(48,48,3)),\n",
        "\n",
        "     layers.Conv2D(filters=64,kernel_size= 3, padding='same', activation='relu'),\n",
        "     layers.BatchNormalization(),\n",
        "     layers.Conv2D(64, 3, padding='same', activation='relu'),\n",
        "     layers.BatchNormalization(),\n",
        "     layers.MaxPooling2D((2,2)),\n",
        "     layers.Dropout(0.2),\n",
        "\n",
        "\n",
        "     layers.Conv2D(64,3, padding='same', activation='relu'),\n",
        "     layers.BatchNormalization(),\n",
        "     layers.Conv2D(64, 3, padding='same', activation='relu'),\n",
        "     layers.BatchNormalization(),\n",
        "     layers.MaxPooling2D((2,2)),\n",
        "     layers.Dropout(0.2),\n",
        "\n",
        "     layers.Conv2D(128, 3, padding='same', activation='relu'),\n",
        "     layers.BatchNormalization(),\n",
        "     layers.Conv2D(128, 3, padding='same', activation='relu'),\n",
        "     layers.BatchNormalization(),\n",
        "     layers.MaxPooling2D((2,2)),\n",
        "     layers.Dropout(0.2),\n",
        "\n",
        "\n",
        "     layers.Flatten(),\n",
        "     layers.Dense(256, activation='relu'),\n",
        "     layers.BatchNormalization(),\n",
        "     layers.Dropout(0.2),\n",
        "     layers.Dense(128, activation='relu'),\n",
        "     layers.BatchNormalization(),\n",
        "     layers.Dropout(0.2),\n",
        "     layers.Dense(7,activation='softmax')\n",
        "])\n",
        "\n",
        "model.summary()"
      ]
    },
    {
      "cell_type": "code",
      "execution_count": null,
      "metadata": {
        "id": "Z0bEnU3sTO22"
      },
      "outputs": [],
      "source": [
        "model.compile(optimizer='Adam',\n",
        "              loss=tf.keras.losses.CategoricalCrossentropy(),\n",
        "              metrics=['accuracy'])\n",
        "# CategoricalCrossentropy:softmax produce a probability vector\n",
        "#  from_logits=False; default, we assume that y_pred encodes a probability distribution."
      ]
    },
    {
      "cell_type": "code",
      "execution_count": null,
      "metadata": {
        "colab": {
          "base_uri": "https://localhost:8080/"
        },
        "id": "5t2otLotZ7Sj",
        "outputId": "e36fed94-172b-4b02-f514-7731eb6992c7"
      },
      "outputs": [
        {
          "name": "stdout",
          "output_type": "stream",
          "text": [
            "Epoch 1/10\n",
            "901/901 [==============================] - 1010s 1s/step - loss: 1.9040 - accuracy: 0.2600 - val_loss: 1.6518 - val_accuracy: 0.3494\n",
            "Epoch 2/10\n",
            "901/901 [==============================] - 989s 1s/step - loss: 1.6395 - accuracy: 0.3500 - val_loss: 1.6492 - val_accuracy: 0.3438\n",
            "Epoch 3/10\n",
            "901/901 [==============================] - 989s 1s/step - loss: 1.4966 - accuracy: 0.4179 - val_loss: 1.3826 - val_accuracy: 0.4658\n",
            "Epoch 4/10\n",
            "901/901 [==============================] - 1025s 1s/step - loss: 1.4210 - accuracy: 0.4517 - val_loss: 1.5151 - val_accuracy: 0.4070\n",
            "Epoch 5/10\n",
            "901/901 [==============================] - 1020s 1s/step - loss: 1.3539 - accuracy: 0.4812 - val_loss: 1.2918 - val_accuracy: 0.5033\n",
            "Epoch 6/10\n",
            "901/901 [==============================] - 1020s 1s/step - loss: 1.3125 - accuracy: 0.5013 - val_loss: 1.1960 - val_accuracy: 0.5405\n",
            "Epoch 7/10\n",
            "901/901 [==============================] - 997s 1s/step - loss: 1.2661 - accuracy: 0.5156 - val_loss: 1.2557 - val_accuracy: 0.5352\n",
            "Epoch 8/10\n",
            "901/901 [==============================] - 989s 1s/step - loss: 1.2543 - accuracy: 0.5248 - val_loss: 1.2149 - val_accuracy: 0.5301\n",
            "Epoch 9/10\n",
            "901/901 [==============================] - 989s 1s/step - loss: 1.2209 - accuracy: 0.5332 - val_loss: 1.1786 - val_accuracy: 0.5521\n",
            "Epoch 10/10\n",
            "901/901 [==============================] - 987s 1s/step - loss: 1.1927 - accuracy: 0.5468 - val_loss: 1.1197 - val_accuracy: 0.5729\n"
          ]
        }
      ],
      "source": [
        "es = EarlyStopping(monitor='val_accuracy', mode='max', patience=8,  restore_best_weights=True)\n",
        "history= model.fit(train_ds,epochs=10, validation_data=(test_ds),callbacks=[es])"
      ]
    },
    {
      "cell_type": "code",
      "execution_count": null,
      "metadata": {
        "colab": {
          "base_uri": "https://localhost:8080/"
        },
        "id": "yV5-3bZ-UDCs",
        "outputId": "bdb118a8-538b-41d1-ad88-95a18fe4dad8"
      },
      "outputs": [
        {
          "name": "stdout",
          "output_type": "stream",
          "text": [
            "221/221 [==============================] - 69s 311ms/step - loss: 1.1197 - accuracy: 0.5729\n",
            "[1.1197162866592407, 0.5728842616081238]\n",
            "Test loss: 1.1197162866592407\n",
            "Test accuracy: 0.5728842616081238\n"
          ]
        }
      ],
      "source": [
        "score = model.evaluate(test_ds)\n",
        "print(score)\n",
        "print('Test loss:', score[0])\n",
        "print('Test accuracy:', score[1])"
      ]
    },
    {
      "cell_type": "code",
      "execution_count": null,
      "metadata": {
        "id": "TWo2a5CiTjKd"
      },
      "outputs": [],
      "source": [
        "plt.plot(history.history['val_accuracy'],label='test')\n",
        "plt.plot(history.history['accuracy'],label='train')\n",
        "plt.legend()"
      ]
    },
    {
      "cell_type": "code",
      "execution_count": null,
      "metadata": {
        "id": "4ofK_mBuXMp3"
      },
      "outputs": [],
      "source": [
        "plt.figure(figsize=(10, 10))\n",
        "for emotion_sample in emotions:\n",
        " path= '{}/*'.format(emotion_sample)\n",
        " emo_imgs = list(test_data_dir.glob(path))\n",
        " plt.figure()\n",
        " img= cv2.imread(str(emo_imgs[8]))\n",
        " plt.imshow(img)\n",
        " # accurcy\n",
        " img_array = tf.keras.utils.img_to_array(img)\n",
        " img_array = tf.expand_dims(img_array, 0) # Create a batch\n",
        " pred=model.predict(img_array)\n",
        " score = tf.nn.softmax(pred[0])\n",
        " plt.title( \"This image most likely belongs to {} class with a {:.2f} percent confidence.\"\n",
        "    .format(emotions[np.argmax(score)], 100 * np.max(score))\n",
        "    )\n",
        "\n"
      ]
    },
    {
      "cell_type": "code",
      "execution_count": null,
      "metadata": {
        "colab": {
          "base_uri": "https://localhost:8080/"
        },
        "id": "VGVrIFo57Jb3",
        "outputId": "dd682cdf-9278-4080-9328-75fd1777f67e"
      },
      "outputs": [
        {
          "name": "stderr",
          "output_type": "stream",
          "text": [
            "<ipython-input-71-0f0f00564e4e>:1: UserWarning: `Model.predict_generator` is deprecated and will be removed in a future version. Please use `Model.predict`, which supports generators.\n",
            "  predictions=model.predict_generator(test_ds,steps=221)\n"
          ]
        }
      ],
      "source": [
        "predictions=model.predict_generator(test_ds,steps=221)"
      ]
    },
    {
      "cell_type": "code",
      "execution_count": null,
      "metadata": {
        "id": "Caq37tD4_xPD"
      },
      "outputs": [],
      "source": [
        "val_preds = np.argmax(predictions, axis=-1)\n",
        "true_lebals=test_ds.classes\n",
        "\n",
        "# label names\n",
        "# emotions[]\n",
        "labels = test_ds.class_indices.keys()\n",
        "precisions, recall, f1_score, _ = metric.precision_recall_fscore_support(true_lebals, val_preds)"
      ]
    },
    {
      "cell_type": "code",
      "execution_count": null,
      "metadata": {
        "colab": {
          "base_uri": "https://localhost:8080/"
        },
        "id": "LZk3hLSOIHgA",
        "outputId": "0e0cdfe0-3264-42fa-df0b-a63c9dabd99e"
      },
      "outputs": [
        {
          "data": {
            "text/plain": [
              "array([0.1403118 , 0.        , 0.12912088, 0.25238362, 0.17797888,\n",
              "       0.16150943, 0.12642045])"
            ]
          },
          "execution_count": 73,
          "metadata": {},
          "output_type": "execute_result"
        }
      ],
      "source": [
        "precisions"
      ]
    },
    {
      "cell_type": "code",
      "execution_count": null,
      "metadata": {
        "colab": {
          "base_uri": "https://localhost:8080/"
        },
        "id": "gMgRcoAcIJX9",
        "outputId": "89eaabc6-4f0a-403c-dcbb-193a8d199c94"
      },
      "outputs": [
        {
          "data": {
            "text/plain": [
              "array([0.13125   , 0.        , 0.04616896, 0.24657534, 0.29111842,\n",
              "       0.18788411, 0.11166876])"
            ]
          },
          "execution_count": 74,
          "metadata": {},
          "output_type": "execute_result"
        }
      ],
      "source": [
        "recall"
      ]
    },
    {
      "cell_type": "code",
      "execution_count": null,
      "metadata": {
        "colab": {
          "base_uri": "https://localhost:8080/"
        },
        "id": "cQIdZnUVILO3",
        "outputId": "61bc4bf1-5977-4cea-f190-dece197edb88"
      },
      "outputs": [
        {
          "data": {
            "text/plain": [
              "array([0.13562971, 0.        , 0.06801737, 0.24944568, 0.22090484,\n",
              "       0.1737013 , 0.11858761])"
            ]
          },
          "execution_count": 75,
          "metadata": {},
          "output_type": "execute_result"
        }
      ],
      "source": [
        "f1_score"
      ]
    },
    {
      "cell_type": "code",
      "execution_count": null,
      "metadata": {
        "id": "t5amHk0dc-wn"
      },
      "outputs": [],
      "source": [
        "model.save('colorModel1.h5',overwrite=True)"
      ]
    },
    {
      "cell_type": "code",
      "execution_count": null,
      "metadata": {
        "id": "QBDJwrjtFwm7"
      },
      "outputs": [],
      "source": [
        "model=tf.keras.models.load_model('/content/colorModel1.h5',compile=True)"
      ]
    },
    {
      "cell_type": "markdown",
      "metadata": {
        "id": "L1GLMpmtU63R"
      },
      "source": [
        "#### grayscale model"
      ]
    },
    {
      "cell_type": "code",
      "execution_count": null,
      "metadata": {
        "colab": {
          "base_uri": "https://localhost:8080/"
        },
        "id": "EZNYHv7E9iv1",
        "outputId": "73c07f09-a31c-4225-8601-2df528ada1f6"
      },
      "outputs": [
        {
          "name": "stdout",
          "output_type": "stream",
          "text": [
            "Found 28820 images belonging to 7 classes.\n",
            "Found 7066 images belonging to 7 classes.\n"
          ]
        }
      ],
      "source": [
        "\n",
        "train_grayDS = training_data_gen.flow_from_directory(\n",
        "  train_data_dir,\n",
        "  seed=123,\n",
        "  target_size=(48,48),\n",
        "  batch_size=batch_size,\n",
        "  color_mode='grayscale',\n",
        "  class_mode='categorical')\n",
        "\n",
        "test_grayDS= test_data_gen.flow_from_directory(\n",
        "  test_data_dir,\n",
        "  seed=123,\n",
        "   target_size=(48,48),\n",
        "  batch_size=batch_size,\n",
        "   color_mode='grayscale',\n",
        "  class_mode='categorical')"
      ]
    },
    {
      "cell_type": "code",
      "execution_count": null,
      "metadata": {
        "colab": {
          "base_uri": "https://localhost:8080/"
        },
        "id": "8UY3IJDG9lCl",
        "outputId": "d847341d-6cc0-441b-e46a-e62c0d1c189b"
      },
      "outputs": [
        {
          "name": "stdout",
          "output_type": "stream",
          "text": [
            "(48, 48, 1)\n",
            "(48, 48, 1)\n",
            "float32\n"
          ]
        },
        {
          "data": {
            "text/plain": [
              "7066"
            ]
          },
          "execution_count": 13,
          "metadata": {},
          "output_type": "execute_result"
        }
      ],
      "source": [
        "print(train_grayDS.image_shape)\n",
        "print(test_grayDS.image_shape)\n",
        "print(test_grayDS.dtype)\n",
        "len(test_grayDS.classes)"
      ]
    },
    {
      "cell_type": "code",
      "execution_count": null,
      "metadata": {
        "colab": {
          "base_uri": "https://localhost:8080/"
        },
        "id": "Ftb-KuLBVH13",
        "outputId": "603e483f-ce26-4d7f-924f-39d92d7bd353"
      },
      "outputs": [
        {
          "name": "stdout",
          "output_type": "stream",
          "text": [
            "Model: \"sequential\"\n",
            "_________________________________________________________________\n",
            " Layer (type)                Output Shape              Param #   \n",
            "=================================================================\n",
            " conv2d (Conv2D)             (None, 48, 48, 64)        640       \n",
            "                                                                 \n",
            " batch_normalization (BatchN  (None, 48, 48, 64)       256       \n",
            " ormalization)                                                   \n",
            "                                                                 \n",
            " conv2d_1 (Conv2D)           (None, 48, 48, 64)        36928     \n",
            "                                                                 \n",
            " batch_normalization_1 (Batc  (None, 48, 48, 64)       256       \n",
            " hNormalization)                                                 \n",
            "                                                                 \n",
            " max_pooling2d (MaxPooling2D  (None, 24, 24, 64)       0         \n",
            " )                                                               \n",
            "                                                                 \n",
            " dropout (Dropout)           (None, 24, 24, 64)        0         \n",
            "                                                                 \n",
            " conv2d_2 (Conv2D)           (None, 24, 24, 64)        36928     \n",
            "                                                                 \n",
            " batch_normalization_2 (Batc  (None, 24, 24, 64)       256       \n",
            " hNormalization)                                                 \n",
            "                                                                 \n",
            " conv2d_3 (Conv2D)           (None, 24, 24, 64)        36928     \n",
            "                                                                 \n",
            " batch_normalization_3 (Batc  (None, 24, 24, 64)       256       \n",
            " hNormalization)                                                 \n",
            "                                                                 \n",
            " max_pooling2d_1 (MaxPooling  (None, 12, 12, 64)       0         \n",
            " 2D)                                                             \n",
            "                                                                 \n",
            " dropout_1 (Dropout)         (None, 12, 12, 64)        0         \n",
            "                                                                 \n",
            " conv2d_4 (Conv2D)           (None, 12, 12, 128)       73856     \n",
            "                                                                 \n",
            " batch_normalization_4 (Batc  (None, 12, 12, 128)      512       \n",
            " hNormalization)                                                 \n",
            "                                                                 \n",
            " conv2d_5 (Conv2D)           (None, 12, 12, 128)       147584    \n",
            "                                                                 \n",
            " batch_normalization_5 (Batc  (None, 12, 12, 128)      512       \n",
            " hNormalization)                                                 \n",
            "                                                                 \n",
            " max_pooling2d_2 (MaxPooling  (None, 6, 6, 128)        0         \n",
            " 2D)                                                             \n",
            "                                                                 \n",
            " dropout_2 (Dropout)         (None, 6, 6, 128)         0         \n",
            "                                                                 \n",
            " flatten (Flatten)           (None, 4608)              0         \n",
            "                                                                 \n",
            " dense (Dense)               (None, 256)               1179904   \n",
            "                                                                 \n",
            " batch_normalization_6 (Batc  (None, 256)              1024      \n",
            " hNormalization)                                                 \n",
            "                                                                 \n",
            " dropout_3 (Dropout)         (None, 256)               0         \n",
            "                                                                 \n",
            " dense_1 (Dense)             (None, 128)               32896     \n",
            "                                                                 \n",
            " batch_normalization_7 (Batc  (None, 128)              512       \n",
            " hNormalization)                                                 \n",
            "                                                                 \n",
            " dropout_4 (Dropout)         (None, 128)               0         \n",
            "                                                                 \n",
            " dense_2 (Dense)             (None, 7)                 903       \n",
            "                                                                 \n",
            "=================================================================\n",
            "Total params: 1,550,151\n",
            "Trainable params: 1,548,359\n",
            "Non-trainable params: 1,792\n",
            "_________________________________________________________________\n"
          ]
        }
      ],
      "source": [
        "\n",
        "Gscale_model= Sequential([\n",
        "\n",
        "\n",
        "      layers.Input(shape=(48,48,1)),\n",
        "\n",
        "     layers.Conv2D(filters=64,kernel_size= 3, padding='same', activation='relu'),\n",
        "     layers.BatchNormalization(),\n",
        "     layers.Conv2D(64, 3, padding='same', activation='relu'),\n",
        "     layers.BatchNormalization(),\n",
        "     layers.MaxPooling2D((2,2)),\n",
        "     layers.Dropout(0.2),\n",
        "\n",
        "\n",
        "     layers.Conv2D(64,3, padding='same', activation='relu'),\n",
        "     layers.BatchNormalization(),\n",
        "     layers.Conv2D(64, 3, padding='same', activation='relu'),\n",
        "     layers.BatchNormalization(),\n",
        "     layers.MaxPooling2D((2,2)),\n",
        "     layers.Dropout(0.2),\n",
        "\n",
        "     layers.Conv2D(128, 3, padding='same', activation='relu'),\n",
        "     layers.BatchNormalization(),\n",
        "     layers.Conv2D(128, 3, padding='same', activation='relu'),\n",
        "     layers.BatchNormalization(),\n",
        "     layers.MaxPooling2D((2,2)),\n",
        "     layers.Dropout(0.2),\n",
        "\n",
        "\n",
        "     layers.Flatten(),\n",
        "     layers.Dense(256, activation='relu'),\n",
        "     layers.BatchNormalization(),\n",
        "     layers.Dropout(0.2),\n",
        "     layers.Dense(128, activation='relu'),\n",
        "     layers.BatchNormalization(),\n",
        "     layers.Dropout(0.2),\n",
        "     layers.Dense(7,activation='softmax')\n",
        "])\n",
        "Gscale_model.summary()"
      ]
    },
    {
      "cell_type": "code",
      "execution_count": null,
      "metadata": {
        "id": "G-UJawUPCLCi"
      },
      "outputs": [],
      "source": [
        "Gscale_model.compile(optimizer='Adam',\n",
        "              loss=tf.keras.losses.CategoricalCrossentropy(),\n",
        "              metrics=['accuracy'])"
      ]
    },
    {
      "cell_type": "code",
      "execution_count": null,
      "metadata": {
        "id": "Gwo6kEVhCEy9"
      },
      "outputs": [],
      "source": [
        "es = EarlyStopping(monitor='val_accuracy', mode='max', patience=8,  restore_best_weights=True)\n",
        "history= Gscale_model.fit(train_grayDS,epochs=10, validation_data=(test_grayDS),callbacks=[es])"
      ]
    },
    {
      "cell_type": "code",
      "execution_count": null,
      "metadata": {
        "colab": {
          "base_uri": "https://localhost:8080/"
        },
        "id": "SfvAXzQIJFcP",
        "outputId": "6c98716c-9800-4351-9449-65ea742f1809"
      },
      "outputs": [
        {
          "name": "stdout",
          "output_type": "stream",
          "text": [
            "221/221 [==============================] - 57s 259ms/step - loss: 1.0789 - accuracy: 0.5894\n",
            "[1.0788949728012085, 0.5894423723220825]\n",
            "Test loss: 1.0788949728012085\n",
            "Test accuracy: 0.5894423723220825\n"
          ]
        }
      ],
      "source": [
        "score = Gscale_model.evaluate(test_grayDS)\n",
        "print(score)\n",
        "print('Test loss:', score[0])\n",
        "print('Test accuracy:', score[1])"
      ]
    },
    {
      "cell_type": "code",
      "execution_count": null,
      "metadata": {
        "id": "x2nTwps0VujN"
      },
      "outputs": [],
      "source": [
        "plt.plot(history.history['val_accuracy'],label='test')\n",
        "plt.plot(history.history['accuracy'],label='train')\n",
        "plt.legend()"
      ]
    },
    {
      "cell_type": "code",
      "execution_count": null,
      "metadata": {
        "colab": {
          "base_uri": "https://localhost:8080/"
        },
        "id": "CrfkEgl_A3-j",
        "outputId": "8130ca89-45aa-43c7-8fe2-d2aab6def78d"
      },
      "outputs": [
        {
          "data": {
            "text/plain": [
              "dict_keys(['angry', 'disgust', 'fear', 'happy', 'neutral', 'sad', 'surprise'])"
            ]
          },
          "execution_count": 37,
          "metadata": {},
          "output_type": "execute_result"
        }
      ],
      "source": [
        "labels"
      ]
    },
    {
      "cell_type": "code",
      "execution_count": null,
      "metadata": {
        "id": "icvF9jo-BArL"
      },
      "outputs": [],
      "source": [
        "predictions=Gscale_model.predict_generator(test_grayDS,steps=221)"
      ]
    },
    {
      "cell_type": "code",
      "execution_count": null,
      "metadata": {
        "id": "BSnkIsBnwOiL"
      },
      "outputs": [],
      "source": [
        "val_preds = np.argmax(predictions, axis=-1)\n",
        "true_lebals=test_grayDS.classes\n",
        "\n",
        "# label names\n",
        "# emotions[]\n",
        "labels = test_grayDS.class_indices.keys()\n",
        "precisions, recall, f1_score, _ = metric.precision_recall_fscore_support(true_lebals, val_preds)\n"
      ]
    },
    {
      "cell_type": "code",
      "execution_count": null,
      "metadata": {
        "colab": {
          "base_uri": "https://localhost:8080/"
        },
        "id": "YxOgQb26BUJG",
        "outputId": "ddd59000-3adb-4b6a-fe3f-44daf7b94ca9"
      },
      "outputs": [
        {
          "data": {
            "text/plain": [
              "array([0.15099715, 0.02469136, 0.06521739, 0.24776721, 0.19716408,\n",
              "       0.16184486, 0.12969283])"
            ]
          },
          "execution_count": 57,
          "metadata": {},
          "output_type": "execute_result"
        }
      ],
      "source": [
        "f1_score\n",
        "# for each class with the corresponding order"
      ]
    },
    {
      "cell_type": "code",
      "execution_count": null,
      "metadata": {
        "colab": {
          "base_uri": "https://localhost:8080/"
        },
        "id": "IPN4P5ZRDdRL",
        "outputId": "094aaf0e-d6b8-4ae2-931b-bf4ca2deafdd"
      },
      "outputs": [
        {
          "data": {
            "text/plain": [
              "array([0.165625  , 0.01801802, 0.04125737, 0.23561644, 0.24013158,\n",
              "       0.16944688, 0.14303639])"
            ]
          },
          "execution_count": 59,
          "metadata": {},
          "output_type": "execute_result"
        }
      ],
      "source": [
        "recall"
      ]
    },
    {
      "cell_type": "code",
      "execution_count": null,
      "metadata": {
        "colab": {
          "base_uri": "https://localhost:8080/"
        },
        "id": "gb5sbzawDepm",
        "outputId": "784d3328-5cc2-4342-8663-a8248f38a04e"
      },
      "outputs": [
        {
          "data": {
            "text/plain": [
              "array([0.13874346, 0.03921569, 0.15555556, 0.26123937, 0.1672394 ,\n",
              "       0.15489567, 0.11862643])"
            ]
          },
          "execution_count": 60,
          "metadata": {},
          "output_type": "execute_result"
        }
      ],
      "source": [
        "precisions"
      ]
    },
    {
      "cell_type": "code",
      "execution_count": null,
      "metadata": {
        "id": "6l8ahxBidYul"
      },
      "outputs": [],
      "source": [
        "Gscale_model.save('GrayScaleModel1.h5',overwrite=True)"
      ]
    },
    {
      "cell_type": "markdown",
      "metadata": {
        "id": "Q5PwwF2lVtER"
      },
      "source": [
        "#### compare colora and grayscale model\n",
        "Observe the precision, recall the F1-score for all classes for both grayscale and color models"
      ]
    },
    {
      "cell_type": "markdown",
      "metadata": {
        "id": "O2aL2QaHWCIS"
      },
      "source": [
        "- there is no significant difference bettwen the 2 models,comparison table in writeup file\n"
      ]
    },
    {
      "cell_type": "markdown",
      "metadata": {
        "id": "U2YSZ-gDSuwO"
      },
      "source": [
        "### 2-Customized CNN Architecture:\n",
        "\n",
        "\n"
      ]
    },
    {
      "cell_type": "markdown",
      "metadata": {
        "id": "8px74qITH2uf"
      },
      "source": [
        "#### color model"
      ]
    },
    {
      "cell_type": "code",
      "execution_count": null,
      "metadata": {
        "colab": {
          "base_uri": "https://localhost:8080/"
        },
        "id": "ygQCewINKglc",
        "outputId": "17f9e8bd-8fb8-4cde-c430-5de5ec52a11f"
      },
      "outputs": [
        {
          "name": "stdout",
          "output_type": "stream",
          "text": [
            "Found 28820 images belonging to 7 classes.\n"
          ]
        }
      ],
      "source": [
        "train_ds2 = training_data_gen.flow_from_directory(\n",
        "  train_data_dir,\n",
        "  seed=123,\n",
        "   target_size=(48,48),\n",
        "  batch_size=64,\n",
        "  class_mode='categorical')"
      ]
    },
    {
      "cell_type": "code",
      "execution_count": null,
      "metadata": {
        "colab": {
          "base_uri": "https://localhost:8080/"
        },
        "id": "YhKAsZJeK7gK",
        "outputId": "66fc9838-4a83-46f8-a959-476edc938bb3"
      },
      "outputs": [
        {
          "name": "stdout",
          "output_type": "stream",
          "text": [
            "Found 7066 images belonging to 7 classes.\n"
          ]
        }
      ],
      "source": [
        "test_ds2= test_data_gen.flow_from_directory(\n",
        "  test_data_dir,\n",
        "  seed=123,\n",
        "   target_size=(48,48),\n",
        "  batch_size=64,\n",
        "  class_mode='categorical')"
      ]
    },
    {
      "cell_type": "code",
      "execution_count": null,
      "metadata": {
        "id": "bzModHMXRU7d"
      },
      "outputs": [],
      "source": [
        "loaded_model=tf.keras.models.load_model('/content/colorModel1.h5',compile=True)"
      ]
    },
    {
      "cell_type": "code",
      "execution_count": null,
      "metadata": {
        "colab": {
          "base_uri": "https://localhost:8080/"
        },
        "id": "X_-F-xQ4VIyn",
        "outputId": "b6d63f9c-c157-4bce-f23f-1d6a06d9ae5f"
      },
      "outputs": [
        {
          "name": "stdout",
          "output_type": "stream",
          "text": [
            "Model: \"sequential\"\n",
            "_________________________________________________________________\n",
            " Layer (type)                Output Shape              Param #   \n",
            "=================================================================\n",
            " conv2d (Conv2D)             (None, 48, 48, 64)        1792      \n",
            "                                                                 \n",
            " batch_normalization (BatchN  (None, 48, 48, 64)       256       \n",
            " ormalization)                                                   \n",
            "                                                                 \n",
            " conv2d_1 (Conv2D)           (None, 48, 48, 64)        36928     \n",
            "                                                                 \n",
            " batch_normalization_1 (Batc  (None, 48, 48, 64)       256       \n",
            " hNormalization)                                                 \n",
            "                                                                 \n",
            " max_pooling2d (MaxPooling2D  (None, 24, 24, 64)       0         \n",
            " )                                                               \n",
            "                                                                 \n",
            " dropout (Dropout)           (None, 24, 24, 64)        0         \n",
            "                                                                 \n",
            " conv2d_2 (Conv2D)           (None, 24, 24, 64)        36928     \n",
            "                                                                 \n",
            " batch_normalization_2 (Batc  (None, 24, 24, 64)       256       \n",
            " hNormalization)                                                 \n",
            "                                                                 \n",
            " conv2d_3 (Conv2D)           (None, 24, 24, 64)        36928     \n",
            "                                                                 \n",
            " batch_normalization_3 (Batc  (None, 24, 24, 64)       256       \n",
            " hNormalization)                                                 \n",
            "                                                                 \n",
            " max_pooling2d_1 (MaxPooling  (None, 12, 12, 64)       0         \n",
            " 2D)                                                             \n",
            "                                                                 \n",
            " dropout_1 (Dropout)         (None, 12, 12, 64)        0         \n",
            "                                                                 \n",
            " conv2d_4 (Conv2D)           (None, 12, 12, 128)       73856     \n",
            "                                                                 \n",
            " batch_normalization_4 (Batc  (None, 12, 12, 128)      512       \n",
            " hNormalization)                                                 \n",
            "                                                                 \n",
            " conv2d_5 (Conv2D)           (None, 12, 12, 128)       147584    \n",
            "                                                                 \n",
            " batch_normalization_5 (Batc  (None, 12, 12, 128)      512       \n",
            " hNormalization)                                                 \n",
            "                                                                 \n",
            " max_pooling2d_2 (MaxPooling  (None, 6, 6, 128)        0         \n",
            " 2D)                                                             \n",
            "                                                                 \n",
            " dropout_2 (Dropout)         (None, 6, 6, 128)         0         \n",
            "                                                                 \n",
            " flatten (Flatten)           (None, 4608)              0         \n",
            "                                                                 \n",
            " dense (Dense)               (None, 256)               1179904   \n",
            "                                                                 \n",
            " batch_normalization_6 (Batc  (None, 256)              1024      \n",
            " hNormalization)                                                 \n",
            "                                                                 \n",
            " dropout_3 (Dropout)         (None, 256)               0         \n",
            "                                                                 \n",
            " dense_1 (Dense)             (None, 128)               32896     \n",
            "                                                                 \n",
            " batch_normalization_7 (Batc  (None, 128)              512       \n",
            " hNormalization)                                                 \n",
            "                                                                 \n",
            " dropout_4 (Dropout)         (None, 128)               0         \n",
            "                                                                 \n",
            " dense_2 (Dense)             (None, 7)                 903       \n",
            "                                                                 \n",
            "=================================================================\n",
            "Total params: 1,551,303\n",
            "Trainable params: 1,549,511\n",
            "Non-trainable params: 1,792\n",
            "_________________________________________________________________\n"
          ]
        }
      ],
      "source": [
        "loaded_model.summary()"
      ]
    },
    {
      "cell_type": "code",
      "execution_count": null,
      "metadata": {
        "colab": {
          "base_uri": "https://localhost:8080/"
        },
        "id": "lWVxCkz6yiMh",
        "outputId": "7462de56-45b4-4dde-f0e5-384dbb0c036b"
      },
      "outputs": [
        {
          "data": {
            "text/plain": [
              "[<keras.layers.convolutional.conv2d.Conv2D at 0x7fd8fd33cc70>,\n",
              " <keras.layers.normalization.batch_normalization.BatchNormalization at 0x7fd9058a1810>,\n",
              " <keras.layers.convolutional.conv2d.Conv2D at 0x7fd9058a1bd0>,\n",
              " <keras.layers.normalization.batch_normalization.BatchNormalization at 0x7fd9058a3340>,\n",
              " <keras.layers.pooling.max_pooling2d.MaxPooling2D at 0x7fd9144db1f0>,\n",
              " <keras.layers.regularization.dropout.Dropout at 0x7fd8fd2cc790>,\n",
              " <keras.layers.convolutional.conv2d.Conv2D at 0x7fd9058a0eb0>,\n",
              " <keras.layers.normalization.batch_normalization.BatchNormalization at 0x7fd8fd271150>,\n",
              " <keras.layers.convolutional.conv2d.Conv2D at 0x7fd9058a28f0>,\n",
              " <keras.layers.normalization.batch_normalization.BatchNormalization at 0x7fd8fd271630>,\n",
              " <keras.layers.pooling.max_pooling2d.MaxPooling2D at 0x7fd8fd271a80>,\n",
              " <keras.layers.regularization.dropout.Dropout at 0x7fd8fd270670>,\n",
              " <keras.layers.convolutional.conv2d.Conv2D at 0x7fd8fd2ace80>,\n",
              " <keras.layers.normalization.batch_normalization.BatchNormalization at 0x7fd8fd2afe80>,\n",
              " <keras.layers.convolutional.conv2d.Conv2D at 0x7fd8fd270f70>,\n",
              " <keras.layers.normalization.batch_normalization.BatchNormalization at 0x7fd8fd2afcd0>,\n",
              " <keras.layers.pooling.max_pooling2d.MaxPooling2D at 0x7fd8fd2af010>,\n",
              " <keras.layers.regularization.dropout.Dropout at 0x7fd8fd2aefe0>,\n",
              " <keras.layers.reshaping.flatten.Flatten at 0x7fd8ffc1ac20>,\n",
              " <keras.layers.core.dense.Dense at 0x7fd8ffc1b8b0>,\n",
              " <keras.layers.normalization.batch_normalization.BatchNormalization at 0x7fd8fd2af220>,\n",
              " <keras.layers.regularization.dropout.Dropout at 0x7fd8ffc1a770>,\n",
              " <keras.layers.core.dense.Dense at 0x7fd8ffc1b160>,\n",
              " <keras.layers.normalization.batch_normalization.BatchNormalization at 0x7fd9058da650>,\n",
              " <keras.layers.regularization.dropout.Dropout at 0x7fd8ffc1ad70>,\n",
              " <keras.layers.core.dense.Dense at 0x7fd8ffe9b2b0>]"
            ]
          },
          "execution_count": 67,
          "metadata": {},
          "output_type": "execute_result"
        }
      ],
      "source": [
        "loaded_model.layers"
      ]
    },
    {
      "cell_type": "code",
      "execution_count": null,
      "metadata": {
        "id": "NyrrRIQaS7YB"
      },
      "outputs": [],
      "source": [
        "# remove the FC layers\n",
        "inputs = keras.Input((48, 48,3))\n",
        "x = inputs\n",
        "for layer in loaded_model.layers[0:-8]:\n",
        "  # [0:-3]: cut the last 6 FC layer\n",
        "  x = loaded_model.get_layer(layer.name)(x)\n",
        "# x=batch_normalization_12 > store the last layer after removing the FC layers to constract the new model\n",
        "\n",
        "ColorModel_2 = keras.Model(inputs,x)\n",
        "ColorModel_2.summary()"
      ]
    },
    {
      "cell_type": "code",
      "execution_count": null,
      "metadata": {
        "colab": {
          "base_uri": "https://localhost:8080/"
        },
        "id": "v6-a0JqSI9sX",
        "outputId": "7ca6fc3b-99c1-4917-caa8-58907537b19e"
      },
      "outputs": [
        {
          "name": "stdout",
          "output_type": "stream",
          "text": [
            "111/111 [==============================] - 68s 610ms/step - loss: 1.1197 - accuracy: 0.5729\n",
            "[1.1197162866592407, 0.5728842616081238]\n",
            "[array([[[[-0.05176017, -0.05215718, -0.03854483, ...,  0.05095476,\n",
            "          -0.06018477, -0.03045554],\n",
            "         [ 0.04833088,  0.01096496,  0.01280343, ..., -0.1021501 ,\n",
            "           0.06015359, -0.14220192],\n",
            "         [-0.02046627, -0.13624652,  0.05681546, ...,  0.05082884,\n",
            "           0.11147206, -0.09368393]],\n",
            "\n",
            "        [[-0.09411853, -0.06933689, -0.01482794, ..., -0.02447126,\n",
            "           0.00649379, -0.08965104],\n",
            "         [-0.07688605, -0.03349625,  0.03839524, ...,  0.01524146,\n",
            "           0.12401757, -0.07888214],\n",
            "         [ 0.00177524,  0.04041176, -0.05428077, ..., -0.06415985,\n",
            "           0.00524954, -0.04012972]],\n",
            "\n",
            "        [[-0.04491377, -0.0606555 , -0.04783056, ..., -0.05778052,\n",
            "           0.12269527, -0.04441676],\n",
            "         [ 0.03987332, -0.02476249, -0.05983891, ..., -0.01187872,\n",
            "           0.08264876,  0.09860528],\n",
            "         [-0.03363304, -0.05257143,  0.00401936, ..., -0.12992315,\n",
            "           0.05899205, -0.00154086]]],\n",
            "\n",
            "\n",
            "       [[[-0.04468916,  0.08254869, -0.04277938, ...,  0.01715087,\n",
            "          -0.1335271 ,  0.00720696],\n",
            "         [-0.0078389 , -0.02002472, -0.08582415, ..., -0.05180326,\n",
            "          -0.1074465 , -0.02960632],\n",
            "         [ 0.0462386 ,  0.03179935, -0.02586043, ..., -0.09517043,\n",
            "          -0.02907071, -0.13655777]],\n",
            "\n",
            "        [[-0.04689047, -0.05099857, -0.10330521, ..., -0.02507831,\n",
            "          -0.03232053, -0.12327519],\n",
            "         [-0.05539416, -0.01544912,  0.04461604, ...,  0.03537217,\n",
            "          -0.17210238, -0.17208666],\n",
            "         [-0.00601219, -0.02770296, -0.03032411, ...,  0.02246494,\n",
            "          -0.13217618, -0.12830205]],\n",
            "\n",
            "        [[-0.10912802,  0.02443012,  0.03096599, ..., -0.00422962,\n",
            "          -0.12963285,  0.07615379],\n",
            "         [-0.08236998,  0.02405032, -0.06087343, ..., -0.02678349,\n",
            "          -0.16015382, -0.09226803],\n",
            "         [-0.01853862,  0.03071362, -0.03372035, ...,  0.01154117,\n",
            "          -0.1320257 , -0.08654333]]],\n",
            "\n",
            "\n",
            "       [[[-0.03450362, -0.09356284, -0.0870624 , ..., -0.00782706,\n",
            "          -0.16148432,  0.11668716],\n",
            "         [-0.07945082,  0.02619784,  0.07319326, ...,  0.03208599,\n",
            "          -0.2235319 ,  0.02254645],\n",
            "         [-0.038402  , -0.06869291, -0.10440935, ..., -0.05789769,\n",
            "          -0.20327954,  0.08936389]],\n",
            "\n",
            "        [[-0.07925824,  0.05175712, -0.03926028, ..., -0.02553207,\n",
            "          -0.15092188, -0.00041692],\n",
            "         [-0.00230144,  0.01746986,  0.06492792, ...,  0.03491117,\n",
            "          -0.13039169,  0.02344737],\n",
            "         [-0.02292261, -0.03450913, -0.0750796 , ...,  0.07163487,\n",
            "          -0.03390741,  0.11079304]],\n",
            "\n",
            "        [[-0.02110075, -0.01566403,  0.07427332, ...,  0.03107678,\n",
            "          -0.12660988,  0.12744735],\n",
            "         [ 0.01995615, -0.05075088, -0.05413382, ..., -0.01933572,\n",
            "          -0.16069227,  0.07660449],\n",
            "         [ 0.02845117, -0.08922918,  0.02353975, ..., -0.0848505 ,\n",
            "          -0.17780614,  0.06904341]]]], dtype=float32), array([-0.01230362, -0.04181243, -0.01942214, -0.01443356, -0.01526464,\n",
            "       -0.001296  , -0.00969556,  0.11996792, -0.03979237,  0.12002232,\n",
            "       -0.01548628, -0.02511842, -0.03833879, -0.01630457, -0.04624355,\n",
            "        0.07382009, -0.0118593 , -0.04436498, -0.02648579, -0.0125291 ,\n",
            "       -0.02273323, -0.01102157, -0.01226159, -0.0055231 , -0.04074188,\n",
            "       -0.01707036,  0.1559715 , -0.03102657,  0.03992014, -0.06859979,\n",
            "       -0.01383993, -0.04767919,  0.08193628, -0.02055489, -0.01824383,\n",
            "       -0.04873224, -0.00927579,  0.02446854, -0.01647583,  0.0179948 ,\n",
            "       -0.01127576, -0.01281156, -0.01651447, -0.02386888, -0.02885525,\n",
            "       -0.0181609 , -0.01205234, -0.00633137, -0.00358095,  0.00368002,\n",
            "        0.02487977,  0.12382408, -0.01337683, -0.02314295,  0.0069286 ,\n",
            "       -0.02492174,  0.04046162,  0.08814285, -0.01442588, -0.0315739 ,\n",
            "       -0.04467923, -0.02538703,  0.04979299,  0.065175  ], dtype=float32)]\n"
          ]
        }
      ],
      "source": [
        "# make sure the model is loaded correctly\n",
        "score = loaded_model.evaluate(test_ds2)\n",
        "print(score)\n",
        "print(ColorModel_2.layers[1].get_weights())"
      ]
    },
    {
      "cell_type": "code",
      "execution_count": null,
      "metadata": {
        "colab": {
          "base_uri": "https://localhost:8080/"
        },
        "id": "OzE-ARgAn0ch",
        "outputId": "858062c8-bf14-414c-b50b-a0a4c2db3ecd"
      },
      "outputs": [
        {
          "name": "stdout",
          "output_type": "stream",
          "text": [
            "Model: \"model_13\"\n",
            "_________________________________________________________________\n",
            " Layer (type)                Output Shape              Param #   \n",
            "=================================================================\n",
            " input_16 (InputLayer)       [(None, 48, 48, 3)]       0         \n",
            "                                                                 \n",
            " conv2d (Conv2D)             (None, 48, 48, 64)        1792      \n",
            "                                                                 \n",
            " batch_normalization (BatchN  (None, 48, 48, 64)       256       \n",
            " ormalization)                                                   \n",
            "                                                                 \n",
            " conv2d_1 (Conv2D)           (None, 48, 48, 64)        36928     \n",
            "                                                                 \n",
            " batch_normalization_1 (Batc  (None, 48, 48, 64)       256       \n",
            " hNormalization)                                                 \n",
            "                                                                 \n",
            " max_pooling2d (MaxPooling2D  (None, 24, 24, 64)       0         \n",
            " )                                                               \n",
            "                                                                 \n",
            " dropout (Dropout)           (None, 24, 24, 64)        0         \n",
            "                                                                 \n",
            " conv2d_2 (Conv2D)           (None, 24, 24, 64)        36928     \n",
            "                                                                 \n",
            " batch_normalization_2 (Batc  (None, 24, 24, 64)       256       \n",
            " hNormalization)                                                 \n",
            "                                                                 \n",
            " conv2d_3 (Conv2D)           (None, 24, 24, 64)        36928     \n",
            "                                                                 \n",
            " batch_normalization_3 (Batc  (None, 24, 24, 64)       256       \n",
            " hNormalization)                                                 \n",
            "                                                                 \n",
            " max_pooling2d_1 (MaxPooling  (None, 12, 12, 64)       0         \n",
            " 2D)                                                             \n",
            "                                                                 \n",
            " dropout_1 (Dropout)         (None, 12, 12, 64)        0         \n",
            "                                                                 \n",
            " conv2d_4 (Conv2D)           (None, 12, 12, 128)       73856     \n",
            "                                                                 \n",
            " batch_normalization_4 (Batc  (None, 12, 12, 128)      512       \n",
            " hNormalization)                                                 \n",
            "                                                                 \n",
            " conv2d_5 (Conv2D)           (None, 12, 12, 128)       147584    \n",
            "                                                                 \n",
            " batch_normalization_5 (Batc  (None, 12, 12, 128)      512       \n",
            " hNormalization)                                                 \n",
            "                                                                 \n",
            " max_pooling2d_2 (MaxPooling  (None, 6, 6, 128)        0         \n",
            " 2D)                                                             \n",
            "                                                                 \n",
            " dropout_2 (Dropout)         (None, 6, 6, 128)         0         \n",
            "                                                                 \n",
            " conv2d_94 (Conv2D)          (None, 6, 6, 128)         147584    \n",
            "                                                                 \n",
            " batch_normalization_106 (Ba  (None, 6, 6, 128)        512       \n",
            " tchNormalization)                                               \n",
            "                                                                 \n",
            " conv2d_95 (Conv2D)          (None, 6, 6, 128)         147584    \n",
            "                                                                 \n",
            " batch_normalization_107 (Ba  (None, 6, 6, 128)        512       \n",
            " tchNormalization)                                               \n",
            "                                                                 \n",
            " max_pooling2d_47 (MaxPoolin  (None, 6, 6, 128)        0         \n",
            " g2D)                                                            \n",
            "                                                                 \n",
            " dropout_51 (Dropout)        (None, 6, 6, 128)         0         \n",
            "                                                                 \n",
            " conv2d_96 (Conv2D)          (None, 6, 6, 128)         147584    \n",
            "                                                                 \n",
            " batch_normalization_108 (Ba  (None, 6, 6, 128)        512       \n",
            " tchNormalization)                                               \n",
            "                                                                 \n",
            " conv2d_97 (Conv2D)          (None, 6, 6, 128)         147584    \n",
            "                                                                 \n",
            " batch_normalization_109 (Ba  (None, 6, 6, 128)        512       \n",
            " tchNormalization)                                               \n",
            "                                                                 \n",
            " max_pooling2d_48 (MaxPoolin  (None, 3, 3, 128)        0         \n",
            " g2D)                                                            \n",
            "                                                                 \n",
            " dropout_52 (Dropout)        (None, 3, 3, 128)         0         \n",
            "                                                                 \n",
            " conv2d_98 (Conv2D)          (None, 3, 3, 128)         147584    \n",
            "                                                                 \n",
            " batch_normalization_110 (Ba  (None, 3, 3, 128)        512       \n",
            " tchNormalization)                                               \n",
            "                                                                 \n",
            " conv2d_99 (Conv2D)          (None, 3, 3, 128)         147584    \n",
            "                                                                 \n",
            " batch_normalization_111 (Ba  (None, 3, 3, 128)        512       \n",
            " tchNormalization)                                               \n",
            "                                                                 \n",
            " max_pooling2d_49 (MaxPoolin  (None, 3, 3, 128)        0         \n",
            " g2D)                                                            \n",
            "                                                                 \n",
            " dropout_53 (Dropout)        (None, 3, 3, 128)         0         \n",
            "                                                                 \n",
            " conv2d_100 (Conv2D)         (None, 3, 3, 128)         147584    \n",
            "                                                                 \n",
            " batch_normalization_112 (Ba  (None, 3, 3, 128)        512       \n",
            " tchNormalization)                                               \n",
            "                                                                 \n",
            " conv2d_101 (Conv2D)         (None, 3, 3, 128)         147584    \n",
            "                                                                 \n",
            " batch_normalization_113 (Ba  (None, 3, 3, 128)        512       \n",
            " tchNormalization)                                               \n",
            "                                                                 \n",
            " max_pooling2d_50 (MaxPoolin  (None, 1, 1, 128)        0         \n",
            " g2D)                                                            \n",
            "                                                                 \n",
            " dropout_54 (Dropout)        (None, 1, 1, 128)         0         \n",
            "                                                                 \n",
            " conv2d_102 (Conv2D)         (None, 1, 1, 256)         295168    \n",
            "                                                                 \n",
            " batch_normalization_114 (Ba  (None, 1, 1, 256)        1024      \n",
            " tchNormalization)                                               \n",
            "                                                                 \n",
            " conv2d_103 (Conv2D)         (None, 1, 1, 256)         590080    \n",
            "                                                                 \n",
            " batch_normalization_115 (Ba  (None, 1, 1, 256)        1024      \n",
            " tchNormalization)                                               \n",
            "                                                                 \n",
            " max_pooling2d_51 (MaxPoolin  (None, 1, 1, 256)        0         \n",
            " g2D)                                                            \n",
            "                                                                 \n",
            " dropout_55 (Dropout)        (None, 1, 1, 256)         0         \n",
            "                                                                 \n",
            " conv2d_104 (Conv2D)         (None, 1, 1, 256)         590080    \n",
            "                                                                 \n",
            " batch_normalization_116 (Ba  (None, 1, 1, 256)        1024      \n",
            " tchNormalization)                                               \n",
            "                                                                 \n",
            " conv2d_105 (Conv2D)         (None, 1, 1, 256)         590080    \n",
            "                                                                 \n",
            " batch_normalization_117 (Ba  (None, 1, 1, 256)        1024      \n",
            " tchNormalization)                                               \n",
            "                                                                 \n",
            " max_pooling2d_52 (MaxPoolin  (None, 1, 1, 256)        0         \n",
            " g2D)                                                            \n",
            "                                                                 \n",
            " dropout_56 (Dropout)        (None, 1, 1, 256)         0         \n",
            "                                                                 \n",
            " flatten_6 (Flatten)         (None, 256)               0         \n",
            "                                                                 \n",
            " dense_18 (Dense)            (None, 1024)              263168    \n",
            "                                                                 \n",
            " batch_normalization_118 (Ba  (None, 1024)             4096      \n",
            " tchNormalization)                                               \n",
            "                                                                 \n",
            " dense_19 (Dense)            (None, 512)               524800    \n",
            "                                                                 \n",
            " batch_normalization_119 (Ba  (None, 512)              2048      \n",
            " tchNormalization)                                               \n",
            "                                                                 \n",
            " dropout_57 (Dropout)        (None, 512)               0         \n",
            "                                                                 \n",
            " dense_20 (Dense)            (None, 7)                 3591      \n",
            "                                                                 \n",
            "=================================================================\n",
            "Total params: 4,388,039\n",
            "Trainable params: 4,044,807\n",
            "Non-trainable params: 343,232\n",
            "_________________________________________________________________\n"
          ]
        }
      ],
      "source": [
        "loaded_model.trainable = False\n",
        "\n",
        "inputs = keras.Input((48, 48, 3))\n",
        "x = inputs\n",
        "\n",
        "for layer in loaded_model.layers[0:-8]:\n",
        "  x = loaded_model.get_layer(layer.name)(x)\n",
        "\n",
        "# a general rule of thumb with neural networks. Deeper is better than wider so it is best to not increase the #filters /kernal size too much\n",
        "\n",
        "\n",
        "\n",
        "x = keras.layers.Conv2D(128,3,padding='same',activation='relu')(x)\n",
        "x = keras.layers.BatchNormalization()(x)\n",
        "x = keras.layers.Conv2D(128,3,padding='same',activation='relu')(x)\n",
        "x = keras.layers.BatchNormalization()(x)\n",
        "x = keras.layers.MaxPooling2D(strides=1 , padding='same')(x)\n",
        "x =layers.Dropout(0.2)(x)\n",
        "\n",
        "x = keras.layers.Conv2D(128,3,padding='same',activation='relu')(x)\n",
        "x = keras.layers.BatchNormalization()(x)\n",
        "x = keras.layers.Conv2D(128,3,padding='same',activation='relu')(x)\n",
        "x = keras.layers.BatchNormalization()(x)\n",
        "x = keras.layers.MaxPooling2D((2,2))(x)\n",
        "x =layers.Dropout(0.2)(x)\n",
        "\n",
        "\n",
        "\n",
        "x = keras.layers.Conv2D(128,3,padding='same',activation='relu')(x)\n",
        "x = keras.layers.BatchNormalization()(x)\n",
        "x = keras.layers.Conv2D(128,3,padding='same',activation='relu')(x)\n",
        "x = keras.layers.BatchNormalization()(x)\n",
        "x = keras.layers.MaxPooling2D(strides=1 , padding='same')(x)\n",
        "x =layers.Dropout(0.2)(x)\n",
        "\n",
        "x = keras.layers.Conv2D(128,3,padding='same',activation='relu')(x)\n",
        "x =layers.BatchNormalization()(x)\n",
        "x = keras.layers.Conv2D(128,3,padding='same',activation='relu')(x)\n",
        "x =layers.BatchNormalization()(x)\n",
        "x =keras.layers.MaxPooling2D((2,2))(x)\n",
        "x =layers.Dropout(0.2)(x)\n",
        "\n",
        "x = keras.layers.Conv2D(256,3,padding='same',activation='relu')(x)\n",
        "x =layers.BatchNormalization()(x)\n",
        "x = keras.layers.Conv2D(256,3,padding='same',activation='relu')(x)\n",
        "x =layers.BatchNormalization()(x)\n",
        "x =keras.layers.MaxPooling2D(strides=1 , padding='same')(x)\n",
        "x =layers.Dropout(0.2)(x)\n",
        "\n",
        "x = keras.layers.Conv2D(256,3,padding='same',activation='relu')(x)\n",
        "x =layers.BatchNormalization()(x)\n",
        "x = keras.layers.Conv2D(256,3,padding='same',activation='relu')(x)\n",
        "x =layers.BatchNormalization()(x)\n",
        "x =keras.layers.MaxPooling2D(strides=1 , padding='same')(x)\n",
        "x =layers.Dropout(0.2)(x)\n",
        "\n",
        "\n",
        "x=layers.Flatten()(x)\n",
        "x=layers.Dense(1024, activation='relu')(x)\n",
        "x=layers.BatchNormalization()(x)\n",
        "x=layers.Dense(512, activation='relu')(x)\n",
        "x=layers.BatchNormalization()(x)\n",
        "x=layers.Dropout(0.2)(x)\n",
        "x=layers.Dense(7,activation='softmax')(x)\n",
        "\n",
        "ColorModel_2 = keras.Model(inputs,x)\n",
        "ColorModel_2.summary()"
      ]
    },
    {
      "cell_type": "code",
      "execution_count": null,
      "metadata": {
        "id": "xy8qHMLiUZDI"
      },
      "outputs": [],
      "source": [
        "# activation function and optimizer as rmsprop and observe if the accuracy increases\n",
        "lr_schedule = keras.optimizers.schedules.ExponentialDecay(\n",
        "    initial_learning_rate=1e-2,\n",
        "    decay_steps=10000,\n",
        "    decay_rate=0.9)\n",
        "\n",
        "# A lower learning rate means more training time\n",
        "ColorModel_2.compile(tf.keras.optimizers.Adam(lr_schedule), loss=tf.keras.losses.CategoricalCrossentropy(),metrics=['accuracy'])"
      ]
    },
    {
      "cell_type": "code",
      "execution_count": null,
      "metadata": {
        "colab": {
          "base_uri": "https://localhost:8080/"
        },
        "id": "0fGWRw6yUc-u",
        "outputId": "8c9595ac-1eb7-4ced-c7f5-9c03b9391c6e"
      },
      "outputs": [
        {
          "name": "stdout",
          "output_type": "stream",
          "text": [
            "Epoch 1/10\n",
            "451/451 [==============================] - 715s 2s/step - loss: 1.6928 - accuracy: 0.3810 - val_loss: 2.2722 - val_accuracy: 0.3872\n",
            "Epoch 2/10\n",
            "451/451 [==============================] - 685s 2s/step - loss: 1.4776 - accuracy: 0.4466 - val_loss: 1.3475 - val_accuracy: 0.4785\n",
            "Epoch 3/10\n",
            "451/451 [==============================] - 693s 2s/step - loss: 1.3891 - accuracy: 0.4772 - val_loss: 1.2791 - val_accuracy: 0.5225\n",
            "Epoch 4/10\n",
            "451/451 [==============================] - 692s 2s/step - loss: 1.3172 - accuracy: 0.5010 - val_loss: 1.2639 - val_accuracy: 0.5374\n",
            "Epoch 5/10\n",
            "451/451 [==============================] - 691s 2s/step - loss: 1.3000 - accuracy: 0.5097 - val_loss: 1.2561 - val_accuracy: 0.5355\n",
            "Epoch 6/10\n",
            "451/451 [==============================] - 692s 2s/step - loss: 1.2746 - accuracy: 0.5243 - val_loss: 1.2114 - val_accuracy: 0.5391\n",
            "Epoch 7/10\n",
            "451/451 [==============================] - 693s 2s/step - loss: 1.2639 - accuracy: 0.5217 - val_loss: 1.2203 - val_accuracy: 0.5509\n",
            "Epoch 8/10\n",
            "451/451 [==============================] - 685s 2s/step - loss: 1.2440 - accuracy: 0.5351 - val_loss: 1.2225 - val_accuracy: 0.5393\n",
            "Epoch 9/10\n",
            "451/451 [==============================] - 693s 2s/step - loss: 1.2467 - accuracy: 0.5306 - val_loss: 1.2123 - val_accuracy: 0.5672\n",
            "Epoch 10/10\n",
            "451/451 [==============================] - 686s 2s/step - loss: 1.2369 - accuracy: 0.5404 - val_loss: 1.1768 - val_accuracy: 0.5600\n"
          ]
        },
        {
          "data": {
            "text/plain": [
              "<keras.callbacks.History at 0x7fd91770e650>"
            ]
          },
          "execution_count": 72,
          "metadata": {},
          "output_type": "execute_result"
        }
      ],
      "source": [
        "es_2 = EarlyStopping(monitor='accuracy', mode='max', patience=2,  restore_best_weights=True)\n",
        "\n",
        "ColorModel_2.fit(train_ds2,epochs=10,batch_size=64,validation_data=(test_ds2),callbacks=[es_2])\n",
        "\n",
        "# batch_size=16 cause the model to be less accurate"
      ]
    },
    {
      "cell_type": "code",
      "execution_count": null,
      "metadata": {
        "colab": {
          "base_uri": "https://localhost:8080/"
        },
        "id": "P-BxwnNHS7JJ",
        "outputId": "15e6f255-2f5a-4f40-d635-fe8d0f90f9a1"
      },
      "outputs": [
        {
          "name": "stdout",
          "output_type": "stream",
          "text": [
            "111/111 [==============================] - 115s 1s/step - loss: 1.1768 - accuracy: 0.5600\n",
            "[1.176783561706543, 0.5600056648254395]\n",
            "Test loss: 1.176783561706543\n",
            "Test accuracy: 0.5600056648254395\n"
          ]
        }
      ],
      "source": [
        "score = ColorModel_2.evaluate(test_ds2)\n",
        "print(score)\n",
        "print('Test loss:', score[0])\n",
        "print('Test accuracy:', score[1])\n"
      ]
    },
    {
      "cell_type": "code",
      "execution_count": null,
      "metadata": {
        "id": "boH0S-U5IQuf"
      },
      "outputs": [],
      "source": [
        "ColorModel_2.save('ColorModel_2.h5',overwrite=True)"
      ]
    },
    {
      "cell_type": "code",
      "execution_count": null,
      "metadata": {
        "colab": {
          "base_uri": "https://localhost:8080/"
        },
        "id": "qf8NUq9MTxvW",
        "outputId": "4f012943-5e1b-42af-a3d4-735fdecbd742"
      },
      "outputs": [
        {
          "name": "stderr",
          "output_type": "stream",
          "text": [
            "<ipython-input-88-f5dbfe928c39>:1: UserWarning: `Model.predict_generator` is deprecated and will be removed in a future version. Please use `Model.predict`, which supports generators.\n",
            "  predictions=ColorModel_2.predict_generator(test_ds2,steps=111)\n"
          ]
        }
      ],
      "source": [
        "predictions=ColorModel_2.predict_generator(test_ds2,steps=111)"
      ]
    },
    {
      "cell_type": "code",
      "execution_count": null,
      "metadata": {
        "colab": {
          "base_uri": "https://localhost:8080/"
        },
        "id": "pkr39OiVVrqo",
        "outputId": "99579d2e-78b3-4759-e9ac-e7ca25f691da"
      },
      "outputs": [
        {
          "name": "stderr",
          "output_type": "stream",
          "text": [
            "/usr/local/lib/python3.10/dist-packages/sklearn/metrics/_classification.py:1344: UndefinedMetricWarning: Precision and F-score are ill-defined and being set to 0.0 in labels with no predicted samples. Use `zero_division` parameter to control this behavior.\n",
            "  _warn_prf(average, modifier, msg_start, len(result))\n"
          ]
        }
      ],
      "source": [
        "val_preds = np.argmax(predictions, axis=-1)\n",
        "true_lebals=test_ds2.classes\n",
        "\n",
        "precisions, recall, f1_score, _ = metric.precision_recall_fscore_support(true_lebals, val_preds)"
      ]
    },
    {
      "cell_type": "code",
      "execution_count": null,
      "metadata": {
        "colab": {
          "base_uri": "https://localhost:8080/"
        },
        "id": "Zi-fVcshyNW7",
        "outputId": "eae6320e-030b-4947-993d-485e554d86ec"
      },
      "outputs": [
        {
          "data": {
            "text/plain": [
              "array([0.11166253, 0.        , 0.17692308, 0.25629792, 0.17074878,\n",
              "       0.15252666, 0.10167131])"
            ]
          },
          "execution_count": 90,
          "metadata": {},
          "output_type": "execute_result"
        }
      ],
      "source": [
        "precisions"
      ]
    },
    {
      "cell_type": "code",
      "execution_count": null,
      "metadata": {
        "colab": {
          "base_uri": "https://localhost:8080/"
        },
        "id": "71iOqATZyPm0",
        "outputId": "01db3206-74fd-4095-b165-fa46a3943c0c"
      },
      "outputs": [
        {
          "data": {
            "text/plain": [
              "array([0.09375   , 0.        , 0.02259332, 0.25643836, 0.20065789,\n",
              "       0.28884987, 0.09159348])"
            ]
          },
          "execution_count": 91,
          "metadata": {},
          "output_type": "execute_result"
        }
      ],
      "source": [
        "recall"
      ]
    },
    {
      "cell_type": "code",
      "execution_count": null,
      "metadata": {
        "colab": {
          "base_uri": "https://localhost:8080/"
        },
        "id": "mloax6PryRzv",
        "outputId": "6a6952b2-4bce-4e07-8576-3d8ed3d56e49"
      },
      "outputs": [
        {
          "data": {
            "text/plain": [
              "array([0.10192525, 0.        , 0.04006969, 0.25636812, 0.18449905,\n",
              "       0.19963592, 0.09636964])"
            ]
          },
          "execution_count": 92,
          "metadata": {},
          "output_type": "execute_result"
        }
      ],
      "source": [
        "f1_score"
      ]
    },
    {
      "cell_type": "markdown",
      "metadata": {
        "id": "V2geIF1WH7c0"
      },
      "source": [
        "#### grayscale model"
      ]
    },
    {
      "cell_type": "code",
      "execution_count": null,
      "metadata": {
        "colab": {
          "base_uri": "https://localhost:8080/"
        },
        "id": "BIOTcd8EWdie",
        "outputId": "0bda3f55-d3f6-47d9-c12e-e1fc24d9e25f"
      },
      "outputs": [
        {
          "name": "stdout",
          "output_type": "stream",
          "text": [
            "Found 28820 images belonging to 7 classes.\n",
            "Found 7066 images belonging to 7 classes.\n"
          ]
        }
      ],
      "source": [
        "train_grayDS2 = training_data_gen.flow_from_directory(\n",
        "  train_data_dir,\n",
        "  seed=123,\n",
        "  target_size=(48,48),\n",
        "  batch_size=64,\n",
        "  color_mode='grayscale',\n",
        "  class_mode='categorical')\n",
        "\n",
        "test_grayDS2= test_data_gen.flow_from_directory(\n",
        "  test_data_dir,\n",
        "  seed=123,\n",
        "   target_size=(48,48),\n",
        "  batch_size=64,\n",
        "   color_mode='grayscale',\n",
        "  class_mode='categorical')"
      ]
    },
    {
      "cell_type": "code",
      "execution_count": null,
      "metadata": {
        "id": "ZtXlA0IcXftN"
      },
      "outputs": [],
      "source": [
        "loaded_model2=tf.keras.models.load_model('/content/GrayScaleModel1.h5',compile=True)"
      ]
    },
    {
      "cell_type": "code",
      "execution_count": null,
      "metadata": {
        "colab": {
          "base_uri": "https://localhost:8080/"
        },
        "id": "Ur6ALG4WaFAR",
        "outputId": "27bdcfa7-e0ff-48c4-d2ac-4533373e4c4b"
      },
      "outputs": [
        {
          "name": "stdout",
          "output_type": "stream",
          "text": [
            "Model: \"model_5\"\n",
            "_________________________________________________________________\n",
            " Layer (type)                Output Shape              Param #   \n",
            "=================================================================\n",
            " input_14 (InputLayer)       [(None, 48, 48, 1)]       0         \n",
            "                                                                 \n",
            " conv2d (Conv2D)             (None, 48, 48, 64)        640       \n",
            "                                                                 \n",
            " batch_normalization (BatchN  (None, 48, 48, 64)       256       \n",
            " ormalization)                                                   \n",
            "                                                                 \n",
            " conv2d_1 (Conv2D)           (None, 48, 48, 64)        36928     \n",
            "                                                                 \n",
            " batch_normalization_1 (Batc  (None, 48, 48, 64)       256       \n",
            " hNormalization)                                                 \n",
            "                                                                 \n",
            " max_pooling2d (MaxPooling2D  (None, 24, 24, 64)       0         \n",
            " )                                                               \n",
            "                                                                 \n",
            " dropout (Dropout)           (None, 24, 24, 64)        0         \n",
            "                                                                 \n",
            " conv2d_2 (Conv2D)           (None, 24, 24, 64)        36928     \n",
            "                                                                 \n",
            " batch_normalization_2 (Batc  (None, 24, 24, 64)       256       \n",
            " hNormalization)                                                 \n",
            "                                                                 \n",
            " conv2d_3 (Conv2D)           (None, 24, 24, 64)        36928     \n",
            "                                                                 \n",
            " batch_normalization_3 (Batc  (None, 24, 24, 64)       256       \n",
            " hNormalization)                                                 \n",
            "                                                                 \n",
            " max_pooling2d_1 (MaxPooling  (None, 12, 12, 64)       0         \n",
            " 2D)                                                             \n",
            "                                                                 \n",
            " dropout_1 (Dropout)         (None, 12, 12, 64)        0         \n",
            "                                                                 \n",
            " conv2d_4 (Conv2D)           (None, 12, 12, 128)       73856     \n",
            "                                                                 \n",
            " batch_normalization_4 (Batc  (None, 12, 12, 128)      512       \n",
            " hNormalization)                                                 \n",
            "                                                                 \n",
            " conv2d_5 (Conv2D)           (None, 12, 12, 128)       147584    \n",
            "                                                                 \n",
            " batch_normalization_5 (Batc  (None, 12, 12, 128)      512       \n",
            " hNormalization)                                                 \n",
            "                                                                 \n",
            " max_pooling2d_2 (MaxPooling  (None, 6, 6, 128)        0         \n",
            " 2D)                                                             \n",
            "                                                                 \n",
            " dropout_2 (Dropout)         (None, 6, 6, 128)         0         \n",
            "                                                                 \n",
            "=================================================================\n",
            "Total params: 334,912\n",
            "Trainable params: 333,888\n",
            "Non-trainable params: 1,024\n",
            "_________________________________________________________________\n"
          ]
        }
      ],
      "source": [
        "# remove the FC layers\n",
        "inputs = keras.Input((48, 48,1))\n",
        "x = inputs\n",
        "for layer in loaded_model2.layers[0:-8]:\n",
        "  # [0:-3]: cut the last 6 FC layer\n",
        "  x = loaded_model2.get_layer(layer.name)(x)\n",
        "# x=batch_normalization_12 > store the last layer after removing the FC layers to constract the new model\n",
        "\n",
        "GrayModel_2 = keras.Model(inputs,x)\n",
        "GrayModel_2.summary()"
      ]
    },
    {
      "cell_type": "code",
      "execution_count": null,
      "metadata": {
        "colab": {
          "base_uri": "https://localhost:8080/"
        },
        "id": "o1Oj-_dzaMVX",
        "outputId": "c01dba06-77ba-4157-f307-02f1af44e6fb"
      },
      "outputs": [
        {
          "name": "stdout",
          "output_type": "stream",
          "text": [
            "Model: \"model_7\"\n",
            "_________________________________________________________________\n",
            " Layer (type)                Output Shape              Param #   \n",
            "=================================================================\n",
            " input_16 (InputLayer)       [(None, 48, 48, 1)]       0         \n",
            "                                                                 \n",
            " conv2d (Conv2D)             (None, 48, 48, 64)        640       \n",
            "                                                                 \n",
            " batch_normalization (BatchN  (None, 48, 48, 64)       256       \n",
            " ormalization)                                                   \n",
            "                                                                 \n",
            " conv2d_1 (Conv2D)           (None, 48, 48, 64)        36928     \n",
            "                                                                 \n",
            " batch_normalization_1 (Batc  (None, 48, 48, 64)       256       \n",
            " hNormalization)                                                 \n",
            "                                                                 \n",
            " max_pooling2d (MaxPooling2D  (None, 24, 24, 64)       0         \n",
            " )                                                               \n",
            "                                                                 \n",
            " dropout (Dropout)           (None, 24, 24, 64)        0         \n",
            "                                                                 \n",
            " conv2d_2 (Conv2D)           (None, 24, 24, 64)        36928     \n",
            "                                                                 \n",
            " batch_normalization_2 (Batc  (None, 24, 24, 64)       256       \n",
            " hNormalization)                                                 \n",
            "                                                                 \n",
            " conv2d_3 (Conv2D)           (None, 24, 24, 64)        36928     \n",
            "                                                                 \n",
            " batch_normalization_3 (Batc  (None, 24, 24, 64)       256       \n",
            " hNormalization)                                                 \n",
            "                                                                 \n",
            " max_pooling2d_1 (MaxPooling  (None, 12, 12, 64)       0         \n",
            " 2D)                                                             \n",
            "                                                                 \n",
            " dropout_1 (Dropout)         (None, 12, 12, 64)        0         \n",
            "                                                                 \n",
            " conv2d_4 (Conv2D)           (None, 12, 12, 128)       73856     \n",
            "                                                                 \n",
            " batch_normalization_4 (Batc  (None, 12, 12, 128)      512       \n",
            " hNormalization)                                                 \n",
            "                                                                 \n",
            " conv2d_5 (Conv2D)           (None, 12, 12, 128)       147584    \n",
            "                                                                 \n",
            " batch_normalization_5 (Batc  (None, 12, 12, 128)      512       \n",
            " hNormalization)                                                 \n",
            "                                                                 \n",
            " max_pooling2d_2 (MaxPooling  (None, 6, 6, 128)        0         \n",
            " 2D)                                                             \n",
            "                                                                 \n",
            " dropout_2 (Dropout)         (None, 6, 6, 128)         0         \n",
            "                                                                 \n",
            " conv2d_12 (Conv2D)          (None, 6, 6, 128)         147584    \n",
            "                                                                 \n",
            " batch_normalization_14 (Bat  (None, 6, 6, 128)        512       \n",
            " chNormalization)                                                \n",
            "                                                                 \n",
            " conv2d_13 (Conv2D)          (None, 6, 6, 128)         147584    \n",
            "                                                                 \n",
            " batch_normalization_15 (Bat  (None, 6, 6, 128)        512       \n",
            " chNormalization)                                                \n",
            "                                                                 \n",
            " max_pooling2d_6 (MaxPooling  (None, 6, 6, 128)        0         \n",
            " 2D)                                                             \n",
            "                                                                 \n",
            " dropout_15 (Dropout)        (None, 6, 6, 128)         0         \n",
            "                                                                 \n",
            " conv2d_14 (Conv2D)          (None, 6, 6, 128)         147584    \n",
            "                                                                 \n",
            " batch_normalization_16 (Bat  (None, 6, 6, 128)        512       \n",
            " chNormalization)                                                \n",
            "                                                                 \n",
            " conv2d_15 (Conv2D)          (None, 6, 6, 128)         147584    \n",
            "                                                                 \n",
            " batch_normalization_17 (Bat  (None, 6, 6, 128)        512       \n",
            " chNormalization)                                                \n",
            "                                                                 \n",
            " max_pooling2d_7 (MaxPooling  (None, 3, 3, 128)        0         \n",
            " 2D)                                                             \n",
            "                                                                 \n",
            " dropout_16 (Dropout)        (None, 3, 3, 128)         0         \n",
            "                                                                 \n",
            " conv2d_16 (Conv2D)          (None, 3, 3, 128)         147584    \n",
            "                                                                 \n",
            " batch_normalization_18 (Bat  (None, 3, 3, 128)        512       \n",
            " chNormalization)                                                \n",
            "                                                                 \n",
            " conv2d_17 (Conv2D)          (None, 3, 3, 128)         147584    \n",
            "                                                                 \n",
            " batch_normalization_19 (Bat  (None, 3, 3, 128)        512       \n",
            " chNormalization)                                                \n",
            "                                                                 \n",
            " max_pooling2d_8 (MaxPooling  (None, 3, 3, 128)        0         \n",
            " 2D)                                                             \n",
            "                                                                 \n",
            " dropout_17 (Dropout)        (None, 3, 3, 128)         0         \n",
            "                                                                 \n",
            " conv2d_18 (Conv2D)          (None, 3, 3, 128)         147584    \n",
            "                                                                 \n",
            " batch_normalization_20 (Bat  (None, 3, 3, 128)        512       \n",
            " chNormalization)                                                \n",
            "                                                                 \n",
            " conv2d_19 (Conv2D)          (None, 3, 3, 128)         147584    \n",
            "                                                                 \n",
            " batch_normalization_21 (Bat  (None, 3, 3, 128)        512       \n",
            " chNormalization)                                                \n",
            "                                                                 \n",
            " max_pooling2d_9 (MaxPooling  (None, 1, 1, 128)        0         \n",
            " 2D)                                                             \n",
            "                                                                 \n",
            " dropout_18 (Dropout)        (None, 1, 1, 128)         0         \n",
            "                                                                 \n",
            " conv2d_20 (Conv2D)          (None, 1, 1, 256)         295168    \n",
            "                                                                 \n",
            " batch_normalization_22 (Bat  (None, 1, 1, 256)        1024      \n",
            " chNormalization)                                                \n",
            "                                                                 \n",
            " conv2d_21 (Conv2D)          (None, 1, 1, 256)         590080    \n",
            "                                                                 \n",
            " batch_normalization_23 (Bat  (None, 1, 1, 256)        1024      \n",
            " chNormalization)                                                \n",
            "                                                                 \n",
            " max_pooling2d_10 (MaxPoolin  (None, 1, 1, 256)        0         \n",
            " g2D)                                                            \n",
            "                                                                 \n",
            " dropout_19 (Dropout)        (None, 1, 1, 256)         0         \n",
            "                                                                 \n",
            " conv2d_22 (Conv2D)          (None, 1, 1, 256)         590080    \n",
            "                                                                 \n",
            " batch_normalization_24 (Bat  (None, 1, 1, 256)        1024      \n",
            " chNormalization)                                                \n",
            "                                                                 \n",
            " conv2d_23 (Conv2D)          (None, 1, 1, 256)         590080    \n",
            "                                                                 \n",
            " batch_normalization_25 (Bat  (None, 1, 1, 256)        1024      \n",
            " chNormalization)                                                \n",
            "                                                                 \n",
            " max_pooling2d_11 (MaxPoolin  (None, 1, 1, 256)        0         \n",
            " g2D)                                                            \n",
            "                                                                 \n",
            " dropout_20 (Dropout)        (None, 1, 1, 256)         0         \n",
            "                                                                 \n",
            " flatten_9 (Flatten)         (None, 256)               0         \n",
            "                                                                 \n",
            " dense_19 (Dense)            (None, 1024)              263168    \n",
            "                                                                 \n",
            " batch_normalization_26 (Bat  (None, 1024)             4096      \n",
            " chNormalization)                                                \n",
            "                                                                 \n",
            " dense_20 (Dense)            (None, 512)               524800    \n",
            "                                                                 \n",
            " batch_normalization_27 (Bat  (None, 512)              2048      \n",
            " chNormalization)                                                \n",
            "                                                                 \n",
            " dropout_21 (Dropout)        (None, 512)               0         \n",
            "                                                                 \n",
            " dense_21 (Dense)            (None, 7)                 3591      \n",
            "                                                                 \n",
            "=================================================================\n",
            "Total params: 4,386,887\n",
            "Trainable params: 4,044,807\n",
            "Non-trainable params: 342,080\n",
            "_________________________________________________________________\n"
          ]
        }
      ],
      "source": [
        "\n",
        "loaded_model2.trainable = False\n",
        "\n",
        "inputs = keras.Input((48, 48, 1))\n",
        "x = inputs\n",
        "\n",
        "for layer in loaded_model2.layers[0:-8]:\n",
        "  x = loaded_model2.get_layer(layer.name)(x)\n",
        "\n",
        "\n",
        "x = keras.layers.Conv2D(128,3,padding='same',activation='relu')(x)\n",
        "x = keras.layers.BatchNormalization()(x)\n",
        "x = keras.layers.Conv2D(128,3,padding='same',activation='relu')(x)\n",
        "x = keras.layers.BatchNormalization()(x)\n",
        "x = keras.layers.MaxPooling2D(strides=1 , padding='same')(x)\n",
        "x =layers.Dropout(0.2)(x)\n",
        "\n",
        "x = keras.layers.Conv2D(128,3,padding='same',activation='relu')(x)\n",
        "x = keras.layers.BatchNormalization()(x)\n",
        "x = keras.layers.Conv2D(128,3,padding='same',activation='relu')(x)\n",
        "x = keras.layers.BatchNormalization()(x)\n",
        "x = keras.layers.MaxPooling2D((2,2))(x)\n",
        "x =layers.Dropout(0.2)(x)\n",
        "\n",
        "\n",
        "\n",
        "x = keras.layers.Conv2D(128,3,padding='same',activation='relu')(x)\n",
        "x = keras.layers.BatchNormalization()(x)\n",
        "x = keras.layers.Conv2D(128,3,padding='same',activation='relu')(x)\n",
        "x = keras.layers.BatchNormalization()(x)\n",
        "x = keras.layers.MaxPooling2D(strides=1 , padding='same')(x)\n",
        "x =layers.Dropout(0.2)(x)\n",
        "\n",
        "x = keras.layers.Conv2D(128,3,padding='same',activation='relu')(x)\n",
        "x =layers.BatchNormalization()(x)\n",
        "x = keras.layers.Conv2D(128,3,padding='same',activation='relu')(x)\n",
        "x =layers.BatchNormalization()(x)\n",
        "x =keras.layers.MaxPooling2D((2,2))(x)\n",
        "x =layers.Dropout(0.2)(x)\n",
        "\n",
        "x = keras.layers.Conv2D(256,3,padding='same',activation='relu')(x)\n",
        "x =layers.BatchNormalization()(x)\n",
        "x = keras.layers.Conv2D(256,3,padding='same',activation='relu')(x)\n",
        "x =layers.BatchNormalization()(x)\n",
        "x =keras.layers.MaxPooling2D(strides=1 , padding='same')(x)\n",
        "x =layers.Dropout(0.2)(x)\n",
        "\n",
        "x = keras.layers.Conv2D(256,3,padding='same',activation='relu')(x)\n",
        "x =layers.BatchNormalization()(x)\n",
        "x = keras.layers.Conv2D(256,3,padding='same',activation='relu')(x)\n",
        "x =layers.BatchNormalization()(x)\n",
        "x =keras.layers.MaxPooling2D(strides=1 , padding='same')(x)\n",
        "x =layers.Dropout(0.2)(x)\n",
        "\n",
        "\n",
        "x=layers.Flatten()(x)\n",
        "x=layers.Dense(1024, activation='relu')(x)\n",
        "x=layers.BatchNormalization()(x)\n",
        "x=layers.Dense(512, activation='relu')(x)\n",
        "x=layers.BatchNormalization()(x)\n",
        "x=layers.Dropout(0.2)(x)\n",
        "x=layers.Dense(7,activation='softmax')(x)\n",
        "\n",
        "GrayModel_2 = keras.Model(inputs,x)\n",
        "GrayModel_2.summary()"
      ]
    },
    {
      "cell_type": "code",
      "execution_count": null,
      "metadata": {
        "id": "iP08-RlYbGQU"
      },
      "outputs": [],
      "source": [
        "lr_schedule = keras.optimizers.schedules.ExponentialDecay(\n",
        "    initial_learning_rate=1e-2,\n",
        "    decay_steps=10000,\n",
        "    decay_rate=0.9)\n",
        "GrayModel_2.compile(tf.keras.optimizers.Adam(lr_schedule), loss='categorical_crossentropy',metrics=['accuracy'])"
      ]
    },
    {
      "cell_type": "code",
      "execution_count": null,
      "metadata": {
        "colab": {
          "base_uri": "https://localhost:8080/"
        },
        "id": "lxuB8nrkbOZt",
        "outputId": "3a3b2a5e-6d56-46e6-9bed-9ab15aa78040"
      },
      "outputs": [
        {
          "name": "stdout",
          "output_type": "stream",
          "text": [
            "Epoch 1/10\n",
            "451/451 [==============================] - 649s 1s/step - loss: 1.6469 - accuracy: 0.3800 - val_loss: 1.6246 - val_accuracy: 0.3912\n",
            "Epoch 2/10\n",
            "451/451 [==============================] - 640s 1s/step - loss: 1.4388 - accuracy: 0.4410 - val_loss: 1.3836 - val_accuracy: 0.4890\n",
            "Epoch 3/10\n",
            "451/451 [==============================] - 609s 1s/step - loss: 1.3483 - accuracy: 0.4902 - val_loss: 1.3779 - val_accuracy: 0.4966\n",
            "Epoch 4/10\n",
            "451/451 [==============================] - 609s 1s/step - loss: 1.2804 - accuracy: 0.5188 - val_loss: 1.2967 - val_accuracy: 0.5194\n",
            "Epoch 5/10\n",
            "451/451 [==============================] - 613s 1s/step - loss: 1.2531 - accuracy: 0.5315 - val_loss: 1.2765 - val_accuracy: 0.5201\n",
            "Epoch 6/10\n",
            "451/451 [==============================] - 630s 1s/step - loss: 1.2319 - accuracy: 0.5370 - val_loss: 1.2030 - val_accuracy: 0.5560\n",
            "Epoch 7/10\n",
            "451/451 [==============================] - 636s 1s/step - loss: 1.2274 - accuracy: 0.5410 - val_loss: 1.2627 - val_accuracy: 0.5297\n",
            "Epoch 8/10\n",
            "451/451 [==============================] - 640s 1s/step - loss: 1.2194 - accuracy: 0.5460 - val_loss: 1.2632 - val_accuracy: 0.5122\n",
            "Epoch 9/10\n",
            "451/451 [==============================] - 636s 1s/step - loss: 1.2141 - accuracy: 0.5478 - val_loss: 1.2595 - val_accuracy: 0.5473\n",
            "Epoch 10/10\n",
            "451/451 [==============================] - 614s 1s/step - loss: 1.2037 - accuracy: 0.5533 - val_loss: 1.2384 - val_accuracy: 0.5474\n"
          ]
        }
      ],
      "source": [
        "history=GrayModel_2.fit(train_grayDS2,epochs=10,batch_size=64,validation_data=(test_grayDS2),callbacks=[es_2])"
      ]
    },
    {
      "cell_type": "code",
      "execution_count": null,
      "metadata": {
        "colab": {
          "base_uri": "https://localhost:8080/",
          "height": 466
        },
        "id": "ayDipRXkQA7Q",
        "outputId": "e4e679ea-06b9-4ca7-9ad8-5ec07f26b63e"
      },
      "outputs": [
        {
          "data": {
            "text/plain": [
              "<matplotlib.legend.Legend at 0x7b23038b9d50>"
            ]
          },
          "execution_count": 66,
          "metadata": {},
          "output_type": "execute_result"
        },
        {
          "data": {
            "image/png": "[encoded data removed]",
            "text/plain": [
              "<Figure size 640x480 with 1 Axes>"
            ]
          },
          "metadata": {},
          "output_type": "display_data"
        }
      ],
      "source": [
        "plt.plot(history.history['val_accuracy'],label='test')\n",
        "plt.plot(history.history['accuracy'],label='train')\n",
        "plt.ylabel('accuracy')\n",
        "plt.xlabel('epoch')\n",
        "plt.legend()"
      ]
    },
    {
      "cell_type": "code",
      "execution_count": null,
      "metadata": {
        "colab": {
          "base_uri": "https://localhost:8080/"
        },
        "id": "fl6ozCepQAmO",
        "outputId": "7d9184be-ff32-45bd-afa2-8435fefc818a"
      },
      "outputs": [
        {
          "name": "stdout",
          "output_type": "stream",
          "text": [
            "111/111 [==============================] - 64s 581ms/step - loss: 1.2384 - accuracy: 0.5474\n",
            "[1.2383558750152588, 0.5474101305007935]\n",
            "Test loss: 1.2383558750152588\n",
            "Test accuracy: 0.5474101305007935\n"
          ]
        }
      ],
      "source": [
        "score = GrayModel_2.evaluate(test_grayDS2)\n",
        "print(score)\n",
        "print('Test loss:', score[0])\n",
        "print('Test accuracy:', score[1])"
      ]
    },
    {
      "cell_type": "code",
      "execution_count": null,
      "metadata": {
        "id": "8XaGDMiXyZ7U"
      },
      "outputs": [],
      "source": [
        "GrayModel_2.save('GrayModel_2.h5',overwrite=True)"
      ]
    },
    {
      "cell_type": "code",
      "execution_count": null,
      "metadata": {
        "colab": {
          "base_uri": "https://localhost:8080/"
        },
        "id": "pQt_PPZPQ9VQ",
        "outputId": "69e9bd60-069f-4054-f0e0-528d8276cead"
      },
      "outputs": [
        {
          "name": "stderr",
          "output_type": "stream",
          "text": [
            "<ipython-input-69-8aa967d89f4c>:1: UserWarning: `Model.predict_generator` is deprecated and will be removed in a future version. Please use `Model.predict`, which supports generators.\n",
            "  predictions=GrayModel_2.predict_generator(test_grayDS2,steps=111)\n"
          ]
        }
      ],
      "source": [
        "predictions=GrayModel_2.predict_generator(test_grayDS2,steps=111)"
      ]
    },
    {
      "cell_type": "code",
      "execution_count": null,
      "metadata": {
        "colab": {
          "base_uri": "https://localhost:8080/"
        },
        "id": "Y_mm0jO_Q-tX",
        "outputId": "1f28024c-9459-4498-e920-e7c18bd4e4df"
      },
      "outputs": [
        {
          "name": "stderr",
          "output_type": "stream",
          "text": [
            "/usr/local/lib/python3.10/dist-packages/sklearn/metrics/_classification.py:1344: UndefinedMetricWarning: Precision and F-score are ill-defined and being set to 0.0 in labels with no predicted samples. Use `zero_division` parameter to control this behavior.\n",
            "  _warn_prf(average, modifier, msg_start, len(result))\n"
          ]
        }
      ],
      "source": [
        "val_preds = np.argmax(predictions, axis=-1)\n",
        "true_lebals=test_grayDS2.classes\n",
        "\n",
        "precisions, recall, f1_score, _ = metric.precision_recall_fscore_support(true_lebals, val_preds)"
      ]
    },
    {
      "cell_type": "code",
      "execution_count": null,
      "metadata": {
        "colab": {
          "base_uri": "https://localhost:8080/"
        },
        "id": "gSlEvpTg_BBL",
        "outputId": "9562f1bc-9784-4e65-8077-5cbf4b3ceabb"
      },
      "outputs": [
        {
          "data": {
            "text/plain": [
              "array([0.14845705, 0.        , 0.15483871, 0.27037466, 0.1829204 ,\n",
              "       0.18333333, 0.12600536])"
            ]
          },
          "execution_count": 71,
          "metadata": {},
          "output_type": "execute_result"
        }
      ],
      "source": [
        "precisions"
      ]
    },
    {
      "cell_type": "code",
      "execution_count": null,
      "metadata": {
        "colab": {
          "base_uri": "https://localhost:8080/"
        },
        "id": "33UVXGdY_B_6",
        "outputId": "034a3b51-2937-46b5-d3a0-0ae2779b183d"
      },
      "outputs": [
        {
          "data": {
            "text/plain": [
              "array([0.18541667, 0.        , 0.02357564, 0.38356164, 0.28536184,\n",
              "       0.07726076, 0.11794228])"
            ]
          },
          "execution_count": 72,
          "metadata": {},
          "output_type": "execute_result"
        }
      ],
      "source": [
        "recall"
      ]
    },
    {
      "cell_type": "code",
      "execution_count": null,
      "metadata": {
        "colab": {
          "base_uri": "https://localhost:8080/"
        },
        "id": "2HD1ZhNO_FN0",
        "outputId": "c8ec6261-98a1-4fb9-80d5-b2b9b2b07028"
      },
      "outputs": [
        {
          "data": {
            "text/plain": [
              "array([0.16489115, 0.        , 0.04092072, 0.31717263, 0.22293607,\n",
              "       0.10870908, 0.12184057])"
            ]
          },
          "execution_count": 73,
          "metadata": {},
          "output_type": "execute_result"
        }
      ],
      "source": [
        "f1_score"
      ]
    },
    {
      "cell_type": "markdown",
      "metadata": {
        "id": "U7E1sWpIPY8p"
      },
      "source": [
        "#### compare colora and grayscale model\n",
        "Observe the precision, recall the F1-score for all classes for both grayscale and color models"
      ]
    },
    {
      "cell_type": "markdown",
      "metadata": {
        "id": "WI9EoLSfPcO-"
      },
      "source": [
        "- there is no significant difference bettwen the 2 models,comparison table in writeup file"
      ]
    },
    {
      "cell_type": "markdown",
      "metadata": {
        "id": "4wcrjl8cSxqv"
      },
      "source": [
        "### 3-Transfer Learning:"
      ]
    },
    {
      "cell_type": "markdown",
      "metadata": {
        "id": "Hf6P3HKfGaN-"
      },
      "source": [
        "\n",
        "#### VGG16 model"
      ]
    },
    {
      "cell_type": "code",
      "execution_count": 11,
      "metadata": {
        "colab": {
          "base_uri": "https://localhost:8080/"
        },
        "id": "IB6j6CBPxxub",
        "outputId": "0c6ada8d-9642-407c-ce68-7ac30293d681"
      },
      "outputs": [
        {
          "name": "stdout",
          "output_type": "stream",
          "text": [
            "Downloading data from https://storage.googleapis.com/tensorflow/keras-applications/vgg16/vgg16_weights_tf_dim_ordering_tf_kernels_notop.h5\n",
            "58889256/58889256 [==============================] - 0s 0us/step\n",
            "Model: \"vgg16\"\n",
            "_________________________________________________________________\n",
            " Layer (type)                Output Shape              Param #   \n",
            "=================================================================\n",
            " input_1 (InputLayer)        [(None, None, None, 3)]   0         \n",
            "                                                                 \n",
            " block1_conv1 (Conv2D)       (None, None, None, 64)    1792      \n",
            "                                                                 \n",
            " block1_conv2 (Conv2D)       (None, None, None, 64)    36928     \n",
            "                                                                 \n",
            " block1_pool (MaxPooling2D)  (None, None, None, 64)    0         \n",
            "                                                                 \n",
            " block2_conv1 (Conv2D)       (None, None, None, 128)   73856     \n",
            "                                                                 \n",
            " block2_conv2 (Conv2D)       (None, None, None, 128)   147584    \n",
            "                                                                 \n",
            " block2_pool (MaxPooling2D)  (None, None, None, 128)   0         \n",
            "                                                                 \n",
            " block3_conv1 (Conv2D)       (None, None, None, 256)   295168    \n",
            "                                                                 \n",
            " block3_conv2 (Conv2D)       (None, None, None, 256)   590080    \n",
            "                                                                 \n",
            " block3_conv3 (Conv2D)       (None, None, None, 256)   590080    \n",
            "                                                                 \n",
            " block3_pool (MaxPooling2D)  (None, None, None, 256)   0         \n",
            "                                                                 \n",
            " block4_conv1 (Conv2D)       (None, None, None, 512)   1180160   \n",
            "                                                                 \n",
            " block4_conv2 (Conv2D)       (None, None, None, 512)   2359808   \n",
            "                                                                 \n",
            " block4_conv3 (Conv2D)       (None, None, None, 512)   2359808   \n",
            "                                                                 \n",
            " block4_pool (MaxPooling2D)  (None, None, None, 512)   0         \n",
            "                                                                 \n",
            " block5_conv1 (Conv2D)       (None, None, None, 512)   2359808   \n",
            "                                                                 \n",
            " block5_conv2 (Conv2D)       (None, None, None, 512)   2359808   \n",
            "                                                                 \n",
            " block5_conv3 (Conv2D)       (None, None, None, 512)   2359808   \n",
            "                                                                 \n",
            " block5_pool (MaxPooling2D)  (None, None, None, 512)   0         \n",
            "                                                                 \n",
            "=================================================================\n",
            "Total params: 14,714,688\n",
            "Trainable params: 0\n",
            "Non-trainable params: 14,714,688\n",
            "_________________________________________________________________\n"
          ]
        }
      ],
      "source": [
        "VGG16_= VGG16(\n",
        "    include_top=False,\n",
        "    weights='imagenet',\n",
        "  # 'imagenet' (pre-training on ImageNet)\n",
        ")\n",
        "\n",
        "VGG16_.trainable = False ## Not trainable weights\n",
        "\n",
        "VGG16_.summary()"
      ]
    },
    {
      "cell_type": "code",
      "execution_count": 12,
      "metadata": {
        "colab": {
          "base_uri": "https://localhost:8080/"
        },
        "id": "nsd0qcNnzVSZ",
        "outputId": "61f1ead0-8117-4333-c1cb-b4188022d89d"
      },
      "outputs": [
        {
          "name": "stdout",
          "output_type": "stream",
          "text": [
            "Model: \"model\"\n",
            "_________________________________________________________________\n",
            " Layer (type)                Output Shape              Param #   \n",
            "=================================================================\n",
            " input_2 (InputLayer)        [(None, 48, 48, 3)]       0         \n",
            "                                                                 \n",
            " vgg16 (Functional)          (None, None, None, 512)   14714688  \n",
            "                                                                 \n",
            " flatten (Flatten)           (None, 512)               0         \n",
            "                                                                 \n",
            " dense (Dense)               (None, 1024)              525312    \n",
            "                                                                 \n",
            " dropout (Dropout)           (None, 1024)              0         \n",
            "                                                                 \n",
            " dense_1 (Dense)             (None, 7)                 7175      \n",
            "                                                                 \n",
            "=================================================================\n",
            "Total params: 15,247,175\n",
            "Trainable params: 532,487\n",
            "Non-trainable params: 14,714,688\n",
            "_________________________________________________________________\n"
          ]
        }
      ],
      "source": [
        "#Use the generated model\n",
        "\n",
        "input = layers.Input(shape=(48,48, 3))\n",
        "output_vgg16_conv = VGG16_(input)\n",
        "\n",
        "#Add the fully-connected layers\n",
        "x = layers.Flatten()(output_vgg16_conv)\n",
        "x = layers.Dense(1024, activation='relu')(x)\n",
        "x = layers.Dropout(0.2)(x)\n",
        "x = layers.Dense(7, activation='softmax')(x)\n",
        "\n",
        "#Create your own model\n",
        "MyVGG16_model = keras.Model(input,x)\n",
        "MyVGG16_model.summary()\n",
        "# weights and layers from VGG part are be hidden"
      ]
    },
    {
      "cell_type": "code",
      "execution_count": 13,
      "metadata": {
        "id": "RUqpny_p7WvW"
      },
      "outputs": [],
      "source": [
        "MyVGG16_model.compile(optimizer= tf.keras.optimizers.Adam(0.001), loss=tf.keras.losses.CategoricalCrossentropy(),metrics=['accuracy'])"
      ]
    },
    {
      "cell_type": "code",
      "execution_count": 14,
      "metadata": {
        "colab": {
          "base_uri": "https://localhost:8080/"
        },
        "id": "eM58chx-73it",
        "outputId": "03e93f1e-e227-4852-ed7d-0405cb0972f0"
      },
      "outputs": [
        {
          "name": "stdout",
          "output_type": "stream",
          "text": [
            "Epoch 1/15\n",
            "901/901 [==============================] - 661s 732ms/step - loss: 1.6919 - accuracy: 0.3250 - val_loss: 1.6225 - val_accuracy: 0.3607\n",
            "Epoch 2/15\n",
            "901/901 [==============================] - 657s 730ms/step - loss: 1.6413 - accuracy: 0.3499 - val_loss: 1.5958 - val_accuracy: 0.3752\n",
            "Epoch 3/15\n",
            "901/901 [==============================] - 656s 728ms/step - loss: 1.6204 - accuracy: 0.3608 - val_loss: 1.5752 - val_accuracy: 0.3844\n"
          ]
        }
      ],
      "source": [
        "es_3 = EarlyStopping( monitor='val_accuracy', mode='min', patience=2,  restore_best_weights=True)\n",
        "history=MyVGG16_model.fit(train_ds,epochs=15,batch_size=32,validation_data=(test_ds),callbacks=[es_3])"
      ]
    },
    {
      "cell_type": "code",
      "execution_count": 15,
      "metadata": {
        "colab": {
          "base_uri": "https://localhost:8080/",
          "height": 447
        },
        "id": "7SLlxdt-9-0a",
        "outputId": "7cb3c9d9-bc7f-43ce-ff9a-80327af2943b"
      },
      "outputs": [
        {
          "data": {
            "text/plain": [
              "<matplotlib.legend.Legend at 0x7997dbf5d9f0>"
            ]
          },
          "execution_count": 15,
          "metadata": {},
          "output_type": "execute_result"
        },
        {
          "data": {
            "image/png": "[encoded data removed]",
            "text/plain": [
              "<Figure size 640x480 with 1 Axes>"
            ]
          },
          "metadata": {},
          "output_type": "display_data"
        }
      ],
      "source": [
        "plt.plot(history.history['val_accuracy'],label='test')\n",
        "plt.plot(history.history['accuracy'],label='train')\n",
        "plt.legend()"
      ]
    },
    {
      "cell_type": "code",
      "execution_count": 36,
      "metadata": {
        "colab": {
          "base_uri": "https://localhost:8080/"
        },
        "id": "ETtiti1iuX6q",
        "outputId": "1bde2457-f03d-486b-84b0-e2aac933ed00"
      },
      "outputs": [
        {
          "name": "stdout",
          "output_type": "stream",
          "text": [
            "221/221 [==============================] - 145s 658ms/step - loss: 1.6225 - accuracy: 0.3607\n",
            "[1.6225448846817017, 0.36074158549308777]\n",
            "Test loss: 1.6225448846817017\n",
            "Test accuracy: 0.36074158549308777\n"
          ]
        }
      ],
      "source": [
        "score = MyVGG16_model.evaluate(test_ds)\n",
        "print(score)\n",
        "print('Test loss:', score[0])\n",
        "print('Test accuracy:', score[1])"
      ]
    },
    {
      "cell_type": "code",
      "execution_count": 16,
      "metadata": {
        "colab": {
          "base_uri": "https://localhost:8080/"
        },
        "id": "9u0OfYj7-BVq",
        "outputId": "f975ead8-2e1d-4e2a-a12f-142108a8c71c"
      },
      "outputs": [
        {
          "name": "stderr",
          "output_type": "stream",
          "text": [
            "<ipython-input-16-8828a6bbf1f7>:1: UserWarning: `Model.predict_generator` is deprecated and will be removed in a future version. Please use `Model.predict`, which supports generators.\n",
            "  predictions=MyVGG16_model.predict_generator(test_ds,steps=221)\n"
          ]
        }
      ],
      "source": [
        "predictions=MyVGG16_model.predict_generator(test_ds,steps=221)"
      ]
    },
    {
      "cell_type": "code",
      "execution_count": 18,
      "metadata": {
        "colab": {
          "base_uri": "https://localhost:8080/"
        },
        "id": "Z6j3xfcBHY_u",
        "outputId": "d19584f0-08cc-4047-979e-a489eaf442be"
      },
      "outputs": [
        {
          "name": "stderr",
          "output_type": "stream",
          "text": [
            "/usr/local/lib/python3.10/dist-packages/sklearn/metrics/_classification.py:1344: UndefinedMetricWarning: Precision and F-score are ill-defined and being set to 0.0 in labels with no predicted samples. Use `zero_division` parameter to control this behavior.\n",
            "  _warn_prf(average, modifier, msg_start, len(result))\n"
          ]
        }
      ],
      "source": [
        "val_preds = np.argmax(predictions, axis=-1)\n",
        "true_lebals=test_ds.classes\n",
        "\n",
        "precisions, recall, f1_score, _ = metric.precision_recall_fscore_support(true_lebals, val_preds)"
      ]
    },
    {
      "cell_type": "code",
      "execution_count": 19,
      "metadata": {
        "colab": {
          "base_uri": "https://localhost:8080/"
        },
        "id": "YF0FSNc9JcsM",
        "outputId": "ee464f5e-5bb6-4f5e-eaa7-bf4c20e12943"
      },
      "outputs": [
        {
          "data": {
            "text/plain": [
              "array([0.13823019, 0.        , 0.13888889, 0.25285714, 0.18232044,\n",
              "       0.14980916, 0.12842893])"
            ]
          },
          "execution_count": 19,
          "metadata": {},
          "output_type": "execute_result"
        }
      ],
      "source": [
        "precisions"
      ]
    },
    {
      "cell_type": "code",
      "execution_count": 21,
      "metadata": {
        "colab": {
          "base_uri": "https://localhost:8080/"
        },
        "id": "0c8s0tvjJd5j",
        "outputId": "824c8990-826c-4601-f348-ff081be5dde3"
      },
      "outputs": [
        {
          "data": {
            "text/plain": [
              "array([0.24895833, 0.        , 0.01964637, 0.38794521, 0.08141447,\n",
              "       0.13784021, 0.12923463])"
            ]
          },
          "execution_count": 21,
          "metadata": {},
          "output_type": "execute_result"
        }
      ],
      "source": [
        "recall"
      ]
    },
    {
      "cell_type": "code",
      "execution_count": 22,
      "metadata": {
        "colab": {
          "base_uri": "https://localhost:8080/"
        },
        "id": "GKGO4YpuJfAN",
        "outputId": "7ac165f0-065c-434b-a460-8541ca6d331b"
      },
      "outputs": [
        {
          "data": {
            "text/plain": [
              "array([0.17776125, 0.        , 0.03442341, 0.30616216, 0.11256396,\n",
              "       0.14357567, 0.12883052])"
            ]
          },
          "execution_count": 22,
          "metadata": {},
          "output_type": "execute_result"
        }
      ],
      "source": [
        "f1_score"
      ]
    },
    {
      "cell_type": "markdown",
      "metadata": {
        "id": "EgqtqVPfMz-S"
      },
      "source": [
        "#### NASNetLarge model"
      ]
    },
    {
      "cell_type": "code",
      "execution_count": null,
      "metadata": {
        "id": "hKWYpcVZMzqQ"
      },
      "outputs": [],
      "source": [
        "NASNetLarge_= tf.keras.applications.nasnet.NASNetLarge(\n",
        "    input_shape=(48, 48,3),\n",
        "    include_top=False,\n",
        "    weights='imagenet',\n",
        "\n",
        ")\n",
        "\n",
        "\n",
        "NASNetLarge_trainable = False ## Not trainable weights\n",
        "\n",
        "NASNetLarge_.summary()"
      ]
    },
    {
      "cell_type": "code",
      "execution_count": 32,
      "metadata": {
        "colab": {
          "base_uri": "https://localhost:8080/"
        },
        "id": "KqhmLshTNLuD",
        "outputId": "72c80b4a-a8af-44c2-ae3c-97b6936cf1ab"
      },
      "outputs": [
        {
          "name": "stdout",
          "output_type": "stream",
          "text": [
            "Model: \"model_1\"\n",
            "_________________________________________________________________\n",
            " Layer (type)                Output Shape              Param #   \n",
            "=================================================================\n",
            " input_12 (InputLayer)       [(None, 48, 48, 3)]       0         \n",
            "                                                                 \n",
            " NASNet (Functional)         (None, 2, 2, 4032)        84916818  \n",
            "                                                                 \n",
            " flatten_1 (Flatten)         (None, 16128)             0         \n",
            "                                                                 \n",
            " dense_2 (Dense)             (None, 1024)              16516096  \n",
            "                                                                 \n",
            " dropout_1 (Dropout)         (None, 1024)              0         \n",
            "                                                                 \n",
            " dense_3 (Dense)             (None, 7)                 7175      \n",
            "                                                                 \n",
            "=================================================================\n",
            "Total params: 101,440,089\n",
            "Trainable params: 101,243,421\n",
            "Non-trainable params: 196,668\n",
            "_________________________________________________________________\n"
          ]
        }
      ],
      "source": [
        "#Use the generated model\n",
        "\n",
        "input = layers.Input(shape=(48,48, 3))\n",
        "output_NASNetLarge_conv = NASNetLarge_(input)\n",
        "\n",
        "#Add the fully-connected layers\n",
        "x = layers.Flatten()(output_NASNetLarge_conv)\n",
        "x = layers.Dense(1024, activation='relu')(x)\n",
        "x = layers.Dropout(0.2)(x)\n",
        "x = layers.Dense(7, activation='softmax')(x)\n",
        "\n",
        "#Create your own model\n",
        "MyNASNetLarge_model = keras.Model(input,x)\n",
        "MyNASNetLarge_model.summary()\n",
        "# weights and layers from VGG part are be hidden"
      ]
    },
    {
      "cell_type": "code",
      "execution_count": 33,
      "metadata": {
        "id": "eSODKhZNO-M1"
      },
      "outputs": [],
      "source": [
        "MyNASNetLarge_model.compile(optimizer= tf.keras.optimizers.Adam(0.001), loss=tf.keras.losses.CategoricalCrossentropy(),metrics=['accuracy'])"
      ]
    },
    {
      "cell_type": "code",
      "execution_count": 34,
      "metadata": {
        "colab": {
          "base_uri": "https://localhost:8080/"
        },
        "id": "KE-xLbQgO9Rs",
        "outputId": "8853c157-0324-428a-bd6b-90cff576b303"
      },
      "outputs": [
        {
          "name": "stdout",
          "output_type": "stream",
          "text": [
            "Epoch 1/15\n",
            "901/901 [==============================] - 5694s 6s/step - loss: 1.7112 - accuracy: 0.3171 - val_loss: 3071586048.0000 - val_accuracy: 0.1128\n",
            "Epoch 2/15\n",
            "901/901 [==============================] - 5670s 6s/step - loss: 1.6912 - accuracy: 0.3148 - val_loss: 304872608.0000 - val_accuracy: 0.2583\n",
            "Epoch 3/15\n",
            "901/901 [==============================] - 5698s 6s/step - loss: 1.6642 - accuracy: 0.3332 - val_loss: 1269893888.0000 - val_accuracy: 0.2583\n"
          ]
        }
      ],
      "source": [
        "history=MyNASNetLarge_model.fit(train_ds,epochs=15,batch_size=32,validation_data=(test_ds),callbacks=[es_3])"
      ]
    },
    {
      "cell_type": "code",
      "execution_count": 44,
      "metadata": {
        "colab": {
          "base_uri": "https://localhost:8080/"
        },
        "id": "UUF3C6M0UuVi",
        "outputId": "1b267de3-e735-489d-8524-822b5bc0afef"
      },
      "outputs": [
        {
          "name": "stdout",
          "output_type": "stream",
          "text": [
            "221/221 [==============================] - 152s 688ms/step - loss: 3071587072.0000 - accuracy: 0.1128\n",
            "[3071587072.0, 0.11279366165399551]\n",
            "Test loss: 3071587072.0\n",
            "Test accuracy: 0.11279366165399551\n"
          ]
        }
      ],
      "source": [
        "score = MyNASNetLarge_model.evaluate(test_ds)\n",
        "print(score)\n",
        "print('Test loss:', score[0])\n",
        "print('Test accuracy:', score[1])"
      ]
    },
    {
      "cell_type": "code",
      "execution_count": 37,
      "metadata": {
        "colab": {
          "base_uri": "https://localhost:8080/"
        },
        "id": "lRBwGQbeTFAJ",
        "outputId": "8bdaa320-0b13-4513-c478-3757c7e0030c"
      },
      "outputs": [
        {
          "name": "stderr",
          "output_type": "stream",
          "text": [
            "<ipython-input-37-151ebb3bfcbc>:1: UserWarning: `Model.predict_generator` is deprecated and will be removed in a future version. Please use `Model.predict`, which supports generators.\n",
            "  predictions=MyNASNetLarge_model.predict_generator(test_ds,steps=221)\n"
          ]
        }
      ],
      "source": [
        "predictions=MyNASNetLarge_model.predict_generator(test_ds,steps=221)"
      ]
    },
    {
      "cell_type": "code",
      "execution_count": 38,
      "metadata": {
        "colab": {
          "base_uri": "https://localhost:8080/"
        },
        "id": "IQQOnfrgTFr9",
        "outputId": "b745a6e0-3f22-4d11-a4c3-1a3f3e1d3ca9"
      },
      "outputs": [
        {
          "name": "stderr",
          "output_type": "stream",
          "text": [
            "/usr/local/lib/python3.10/dist-packages/sklearn/metrics/_classification.py:1344: UndefinedMetricWarning: Precision and F-score are ill-defined and being set to 0.0 in labels with no predicted samples. Use `zero_division` parameter to control this behavior.\n",
            "  _warn_prf(average, modifier, msg_start, len(result))\n"
          ]
        }
      ],
      "source": [
        "val_preds = np.argmax(predictions, axis=-1)\n",
        "true_lebals=test_ds.classes\n",
        "\n",
        "precisions, recall, f1_score, _ = metric.precision_recall_fscore_support(true_lebals, val_preds)"
      ]
    },
    {
      "cell_type": "code",
      "execution_count": 40,
      "metadata": {
        "colab": {
          "base_uri": "https://localhost:8080/"
        },
        "id": "TwygmSAwUhzh",
        "outputId": "30f6904b-f240-41ae-e41f-41e804af234f"
      },
      "outputs": [
        {
          "data": {
            "text/plain": [
              "array([0.        , 0.        , 0.        , 0.        , 0.        ,\n",
              "       0.        , 0.11279366])"
            ]
          },
          "execution_count": 40,
          "metadata": {},
          "output_type": "execute_result"
        }
      ],
      "source": [
        "precisions"
      ]
    },
    {
      "cell_type": "code",
      "execution_count": 41,
      "metadata": {
        "colab": {
          "base_uri": "https://localhost:8080/"
        },
        "id": "umYVfIK6UiZS",
        "outputId": "0fb342ef-5634-447c-a072-e9213aa78b26"
      },
      "outputs": [
        {
          "data": {
            "text/plain": [
              "array([0., 0., 0., 0., 0., 0., 1.])"
            ]
          },
          "execution_count": 41,
          "metadata": {},
          "output_type": "execute_result"
        }
      ],
      "source": [
        "recall"
      ]
    },
    {
      "cell_type": "code",
      "execution_count": 42,
      "metadata": {
        "colab": {
          "base_uri": "https://localhost:8080/"
        },
        "id": "ZBss0ac_UlEr",
        "outputId": "4b7f8ee7-0329-45fc-fb1f-4e7edc4a8370"
      },
      "outputs": [
        {
          "data": {
            "text/plain": [
              "array([0.        , 0.        , 0.        , 0.        , 0.        ,\n",
              "       0.        , 0.20272161])"
            ]
          },
          "execution_count": 42,
          "metadata": {},
          "output_type": "execute_result"
        }
      ],
      "source": [
        "f1_score"
      ]
    },
    {
      "cell_type": "markdown",
      "metadata": {
        "id": "9Ykgm8OqS1By"
      },
      "source": [
        "\n",
        "Final Steps:\n",
        "\n",
        "Compare all the models on the basis of accuracy, precision, recall, and f1-score : comparison table in writeup file,\n",
        "no big diffrent between the model's accuracy, precision, recall, and f1-score\n",
        "\n",
        "Write at least 3 more things to increase the model’s performance\n",
        "1- increasing the image size to (128,128) or\n",
        "(256,256)\n",
        "2- increasing the number of Epochs\n",
        "3- reducing the learning rate\n"
      ]
    }
  ],
  "metadata": {
    "colab": {
      "collapsed_sections": [
        "YGbp6uhGUxYU",
        "L1GLMpmtU63R",
        "8px74qITH2uf",
        "V2geIF1WH7c0"
      ],
      "provenance": []
    },
    "kernelspec": {
      "display_name": "Python 3",
      "name": "python3"
    },
    "language_info": {
      "name": "python"
    }
  },
  "nbformat": 4,
  "nbformat_minor": 0
}
